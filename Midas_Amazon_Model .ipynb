{
 "cells": [
  {
   "cell_type": "markdown",
   "metadata": {},
   "source": [
    "# Predicting quaterly Typical Price "
   ]
  },
  {
   "cell_type": "code",
   "execution_count": 1,
   "metadata": {},
   "outputs": [],
   "source": [
    "%matplotlib inline\n",
    "import pandas as pd\n",
    "import numpy as np\n",
    "import seaborn as sns\n",
    "from matplotlib import pyplot as plt\n",
    "from midas.mix import mix_freq, mix_freq2\n",
    "from midas.adl import estimate, forecast, midas_adl, rmse, estimate2,forecast2, midas_adl2\n",
    "import datetime\n",
    "import math\n",
    "import pandas_datareader as web"
   ]
  },
  {
   "cell_type": "markdown",
   "metadata": {},
   "source": [
    "##  Load Amazon data\n"
   ]
  },
  {
   "cell_type": "code",
   "execution_count": 2,
   "metadata": {},
   "outputs": [
    {
     "data": {
      "text/html": [
       "<div>\n",
       "<style scoped>\n",
       "    .dataframe tbody tr th:only-of-type {\n",
       "        vertical-align: middle;\n",
       "    }\n",
       "\n",
       "    .dataframe tbody tr th {\n",
       "        vertical-align: top;\n",
       "    }\n",
       "\n",
       "    .dataframe thead th {\n",
       "        text-align: right;\n",
       "    }\n",
       "</style>\n",
       "<table border=\"1\" class=\"dataframe\">\n",
       "  <thead>\n",
       "    <tr style=\"text-align: right;\">\n",
       "      <th></th>\n",
       "      <th>Date</th>\n",
       "      <th>High</th>\n",
       "      <th>Low</th>\n",
       "      <th>Open</th>\n",
       "      <th>Close</th>\n",
       "      <th>Volume</th>\n",
       "      <th>Adj Close</th>\n",
       "    </tr>\n",
       "  </thead>\n",
       "  <tbody>\n",
       "    <tr>\n",
       "      <td>0</td>\n",
       "      <td>2014-01-02</td>\n",
       "      <td>399.359985</td>\n",
       "      <td>394.019989</td>\n",
       "      <td>398.799988</td>\n",
       "      <td>397.970001</td>\n",
       "      <td>2137800</td>\n",
       "      <td>397.970001</td>\n",
       "    </tr>\n",
       "    <tr>\n",
       "      <td>1</td>\n",
       "      <td>2014-01-03</td>\n",
       "      <td>402.709991</td>\n",
       "      <td>396.220001</td>\n",
       "      <td>398.290009</td>\n",
       "      <td>396.440002</td>\n",
       "      <td>2210200</td>\n",
       "      <td>396.440002</td>\n",
       "    </tr>\n",
       "    <tr>\n",
       "      <td>2</td>\n",
       "      <td>2014-01-06</td>\n",
       "      <td>397.000000</td>\n",
       "      <td>388.420013</td>\n",
       "      <td>395.850006</td>\n",
       "      <td>393.630005</td>\n",
       "      <td>3170600</td>\n",
       "      <td>393.630005</td>\n",
       "    </tr>\n",
       "    <tr>\n",
       "      <td>3</td>\n",
       "      <td>2014-01-07</td>\n",
       "      <td>398.470001</td>\n",
       "      <td>394.290009</td>\n",
       "      <td>395.040009</td>\n",
       "      <td>398.029999</td>\n",
       "      <td>1916000</td>\n",
       "      <td>398.029999</td>\n",
       "    </tr>\n",
       "    <tr>\n",
       "      <td>4</td>\n",
       "      <td>2014-01-08</td>\n",
       "      <td>403.000000</td>\n",
       "      <td>396.040009</td>\n",
       "      <td>398.470001</td>\n",
       "      <td>401.920013</td>\n",
       "      <td>2316500</td>\n",
       "      <td>401.920013</td>\n",
       "    </tr>\n",
       "    <tr>\n",
       "      <td>...</td>\n",
       "      <td>...</td>\n",
       "      <td>...</td>\n",
       "      <td>...</td>\n",
       "      <td>...</td>\n",
       "      <td>...</td>\n",
       "      <td>...</td>\n",
       "      <td>...</td>\n",
       "    </tr>\n",
       "    <tr>\n",
       "      <td>1505</td>\n",
       "      <td>2019-12-24</td>\n",
       "      <td>1795.569946</td>\n",
       "      <td>1787.579956</td>\n",
       "      <td>1793.810059</td>\n",
       "      <td>1789.209961</td>\n",
       "      <td>881300</td>\n",
       "      <td>1789.209961</td>\n",
       "    </tr>\n",
       "    <tr>\n",
       "      <td>1506</td>\n",
       "      <td>2019-12-26</td>\n",
       "      <td>1870.459961</td>\n",
       "      <td>1799.500000</td>\n",
       "      <td>1801.010010</td>\n",
       "      <td>1868.770020</td>\n",
       "      <td>6005400</td>\n",
       "      <td>1868.770020</td>\n",
       "    </tr>\n",
       "    <tr>\n",
       "      <td>1507</td>\n",
       "      <td>2019-12-27</td>\n",
       "      <td>1901.400024</td>\n",
       "      <td>1866.010010</td>\n",
       "      <td>1882.920044</td>\n",
       "      <td>1869.800049</td>\n",
       "      <td>6186600</td>\n",
       "      <td>1869.800049</td>\n",
       "    </tr>\n",
       "    <tr>\n",
       "      <td>1508</td>\n",
       "      <td>2019-12-30</td>\n",
       "      <td>1884.000000</td>\n",
       "      <td>1840.619995</td>\n",
       "      <td>1874.000000</td>\n",
       "      <td>1846.890015</td>\n",
       "      <td>3674700</td>\n",
       "      <td>1846.890015</td>\n",
       "    </tr>\n",
       "    <tr>\n",
       "      <td>1509</td>\n",
       "      <td>2019-12-31</td>\n",
       "      <td>1853.260010</td>\n",
       "      <td>1832.229980</td>\n",
       "      <td>1842.000000</td>\n",
       "      <td>1847.839966</td>\n",
       "      <td>2506500</td>\n",
       "      <td>1847.839966</td>\n",
       "    </tr>\n",
       "  </tbody>\n",
       "</table>\n",
       "<p>1510 rows × 7 columns</p>\n",
       "</div>"
      ],
      "text/plain": [
       "           Date         High          Low         Open        Close   Volume  \\\n",
       "0    2014-01-02   399.359985   394.019989   398.799988   397.970001  2137800   \n",
       "1    2014-01-03   402.709991   396.220001   398.290009   396.440002  2210200   \n",
       "2    2014-01-06   397.000000   388.420013   395.850006   393.630005  3170600   \n",
       "3    2014-01-07   398.470001   394.290009   395.040009   398.029999  1916000   \n",
       "4    2014-01-08   403.000000   396.040009   398.470001   401.920013  2316500   \n",
       "...         ...          ...          ...          ...          ...      ...   \n",
       "1505 2019-12-24  1795.569946  1787.579956  1793.810059  1789.209961   881300   \n",
       "1506 2019-12-26  1870.459961  1799.500000  1801.010010  1868.770020  6005400   \n",
       "1507 2019-12-27  1901.400024  1866.010010  1882.920044  1869.800049  6186600   \n",
       "1508 2019-12-30  1884.000000  1840.619995  1874.000000  1846.890015  3674700   \n",
       "1509 2019-12-31  1853.260010  1832.229980  1842.000000  1847.839966  2506500   \n",
       "\n",
       "        Adj Close  \n",
       "0      397.970001  \n",
       "1      396.440002  \n",
       "2      393.630005  \n",
       "3      398.029999  \n",
       "4      401.920013  \n",
       "...           ...  \n",
       "1505  1789.209961  \n",
       "1506  1868.770020  \n",
       "1507  1869.800049  \n",
       "1508  1846.890015  \n",
       "1509  1847.839966  \n",
       "\n",
       "[1510 rows x 7 columns]"
      ]
     },
     "execution_count": 2,
     "metadata": {},
     "output_type": "execute_result"
    }
   ],
   "source": [
    "start = datetime.datetime(2014, 1, 1)\n",
    "end = datetime.datetime(2020, 1, 1)\n",
    "df_amzn = web.DataReader('AMZN', 'yahoo', start, end) \n",
    "amzn= df_amzn\n",
    "amzn=amzn.reset_index()\n",
    "amzn['Date'] = pd.to_datetime(amzn['Date'])\n",
    "amzn"
   ]
  },
  {
   "cell_type": "code",
   "execution_count": 3,
   "metadata": {},
   "outputs": [
    {
     "data": {
      "text/html": [
       "<div>\n",
       "<style scoped>\n",
       "    .dataframe tbody tr th:only-of-type {\n",
       "        vertical-align: middle;\n",
       "    }\n",
       "\n",
       "    .dataframe tbody tr th {\n",
       "        vertical-align: top;\n",
       "    }\n",
       "\n",
       "    .dataframe thead th {\n",
       "        text-align: right;\n",
       "    }\n",
       "</style>\n",
       "<table border=\"1\" class=\"dataframe\">\n",
       "  <thead>\n",
       "    <tr style=\"text-align: right;\">\n",
       "      <th></th>\n",
       "      <th>Date</th>\n",
       "      <th>High</th>\n",
       "      <th>Low</th>\n",
       "      <th>Open</th>\n",
       "      <th>Close</th>\n",
       "      <th>Volume</th>\n",
       "      <th>Adj Close</th>\n",
       "    </tr>\n",
       "  </thead>\n",
       "  <tbody>\n",
       "    <tr>\n",
       "      <td>0</td>\n",
       "      <td>2014-01-02</td>\n",
       "      <td>399.359985</td>\n",
       "      <td>394.019989</td>\n",
       "      <td>398.799988</td>\n",
       "      <td>397.970001</td>\n",
       "      <td>2137800</td>\n",
       "      <td>397.970001</td>\n",
       "    </tr>\n",
       "    <tr>\n",
       "      <td>1</td>\n",
       "      <td>2014-01-03</td>\n",
       "      <td>402.709991</td>\n",
       "      <td>396.220001</td>\n",
       "      <td>398.290009</td>\n",
       "      <td>396.440002</td>\n",
       "      <td>2210200</td>\n",
       "      <td>396.440002</td>\n",
       "    </tr>\n",
       "    <tr>\n",
       "      <td>2</td>\n",
       "      <td>2014-01-06</td>\n",
       "      <td>397.000000</td>\n",
       "      <td>388.420013</td>\n",
       "      <td>395.850006</td>\n",
       "      <td>393.630005</td>\n",
       "      <td>3170600</td>\n",
       "      <td>393.630005</td>\n",
       "    </tr>\n",
       "    <tr>\n",
       "      <td>3</td>\n",
       "      <td>2014-01-07</td>\n",
       "      <td>398.470001</td>\n",
       "      <td>394.290009</td>\n",
       "      <td>395.040009</td>\n",
       "      <td>398.029999</td>\n",
       "      <td>1916000</td>\n",
       "      <td>398.029999</td>\n",
       "    </tr>\n",
       "    <tr>\n",
       "      <td>4</td>\n",
       "      <td>2014-01-08</td>\n",
       "      <td>403.000000</td>\n",
       "      <td>396.040009</td>\n",
       "      <td>398.470001</td>\n",
       "      <td>401.920013</td>\n",
       "      <td>2316500</td>\n",
       "      <td>401.920013</td>\n",
       "    </tr>\n",
       "  </tbody>\n",
       "</table>\n",
       "</div>"
      ],
      "text/plain": [
       "        Date        High         Low        Open       Close   Volume  \\\n",
       "0 2014-01-02  399.359985  394.019989  398.799988  397.970001  2137800   \n",
       "1 2014-01-03  402.709991  396.220001  398.290009  396.440002  2210200   \n",
       "2 2014-01-06  397.000000  388.420013  395.850006  393.630005  3170600   \n",
       "3 2014-01-07  398.470001  394.290009  395.040009  398.029999  1916000   \n",
       "4 2014-01-08  403.000000  396.040009  398.470001  401.920013  2316500   \n",
       "\n",
       "    Adj Close  \n",
       "0  397.970001  \n",
       "1  396.440002  \n",
       "2  393.630005  \n",
       "3  398.029999  \n",
       "4  401.920013  "
      ]
     },
     "execution_count": 3,
     "metadata": {},
     "output_type": "execute_result"
    }
   ],
   "source": [
    "amzn.head()"
   ]
  },
  {
   "cell_type": "code",
   "execution_count": 4,
   "metadata": {},
   "outputs": [
    {
     "data": {
      "text/html": [
       "<div>\n",
       "<style scoped>\n",
       "    .dataframe tbody tr th:only-of-type {\n",
       "        vertical-align: middle;\n",
       "    }\n",
       "\n",
       "    .dataframe tbody tr th {\n",
       "        vertical-align: top;\n",
       "    }\n",
       "\n",
       "    .dataframe thead th {\n",
       "        text-align: right;\n",
       "    }\n",
       "</style>\n",
       "<table border=\"1\" class=\"dataframe\">\n",
       "  <thead>\n",
       "    <tr style=\"text-align: right;\">\n",
       "      <th></th>\n",
       "      <th>Date</th>\n",
       "      <th>High</th>\n",
       "      <th>Low</th>\n",
       "      <th>Open</th>\n",
       "      <th>Close</th>\n",
       "      <th>Volume</th>\n",
       "      <th>Adj Close</th>\n",
       "    </tr>\n",
       "  </thead>\n",
       "  <tbody>\n",
       "    <tr>\n",
       "      <td>1505</td>\n",
       "      <td>2019-12-24</td>\n",
       "      <td>1795.569946</td>\n",
       "      <td>1787.579956</td>\n",
       "      <td>1793.810059</td>\n",
       "      <td>1789.209961</td>\n",
       "      <td>881300</td>\n",
       "      <td>1789.209961</td>\n",
       "    </tr>\n",
       "    <tr>\n",
       "      <td>1506</td>\n",
       "      <td>2019-12-26</td>\n",
       "      <td>1870.459961</td>\n",
       "      <td>1799.500000</td>\n",
       "      <td>1801.010010</td>\n",
       "      <td>1868.770020</td>\n",
       "      <td>6005400</td>\n",
       "      <td>1868.770020</td>\n",
       "    </tr>\n",
       "    <tr>\n",
       "      <td>1507</td>\n",
       "      <td>2019-12-27</td>\n",
       "      <td>1901.400024</td>\n",
       "      <td>1866.010010</td>\n",
       "      <td>1882.920044</td>\n",
       "      <td>1869.800049</td>\n",
       "      <td>6186600</td>\n",
       "      <td>1869.800049</td>\n",
       "    </tr>\n",
       "    <tr>\n",
       "      <td>1508</td>\n",
       "      <td>2019-12-30</td>\n",
       "      <td>1884.000000</td>\n",
       "      <td>1840.619995</td>\n",
       "      <td>1874.000000</td>\n",
       "      <td>1846.890015</td>\n",
       "      <td>3674700</td>\n",
       "      <td>1846.890015</td>\n",
       "    </tr>\n",
       "    <tr>\n",
       "      <td>1509</td>\n",
       "      <td>2019-12-31</td>\n",
       "      <td>1853.260010</td>\n",
       "      <td>1832.229980</td>\n",
       "      <td>1842.000000</td>\n",
       "      <td>1847.839966</td>\n",
       "      <td>2506500</td>\n",
       "      <td>1847.839966</td>\n",
       "    </tr>\n",
       "  </tbody>\n",
       "</table>\n",
       "</div>"
      ],
      "text/plain": [
       "           Date         High          Low         Open        Close   Volume  \\\n",
       "1505 2019-12-24  1795.569946  1787.579956  1793.810059  1789.209961   881300   \n",
       "1506 2019-12-26  1870.459961  1799.500000  1801.010010  1868.770020  6005400   \n",
       "1507 2019-12-27  1901.400024  1866.010010  1882.920044  1869.800049  6186600   \n",
       "1508 2019-12-30  1884.000000  1840.619995  1874.000000  1846.890015  3674700   \n",
       "1509 2019-12-31  1853.260010  1832.229980  1842.000000  1847.839966  2506500   \n",
       "\n",
       "        Adj Close  \n",
       "1505  1789.209961  \n",
       "1506  1868.770020  \n",
       "1507  1869.800049  \n",
       "1508  1846.890015  \n",
       "1509  1847.839966  "
      ]
     },
     "execution_count": 4,
     "metadata": {},
     "output_type": "execute_result"
    }
   ],
   "source": [
    "amzn.tail()"
   ]
  },
  {
   "cell_type": "code",
   "execution_count": 5,
   "metadata": {
    "jupyter": {
     "outputs_hidden": true
    }
   },
   "outputs": [
    {
     "name": "stdout",
     "output_type": "stream",
     "text": [
      "<class 'pandas.core.frame.DataFrame'>\n",
      "RangeIndex: 1510 entries, 0 to 1509\n",
      "Data columns (total 7 columns):\n",
      "Date         1510 non-null datetime64[ns]\n",
      "High         1510 non-null float64\n",
      "Low          1510 non-null float64\n",
      "Open         1510 non-null float64\n",
      "Close        1510 non-null float64\n",
      "Volume       1510 non-null int64\n",
      "Adj Close    1510 non-null float64\n",
      "dtypes: datetime64[ns](1), float64(5), int64(1)\n",
      "memory usage: 82.7 KB\n"
     ]
    }
   ],
   "source": [
    "amzn.info()"
   ]
  },
  {
   "cell_type": "code",
   "execution_count": 6,
   "metadata": {},
   "outputs": [
    {
     "data": {
      "text/plain": [
       "10570"
      ]
     },
     "execution_count": 6,
     "metadata": {},
     "output_type": "execute_result"
    }
   ],
   "source": [
    "amzn.size"
   ]
  },
  {
   "cell_type": "code",
   "execution_count": 7,
   "metadata": {},
   "outputs": [
    {
     "data": {
      "text/html": [
       "<div>\n",
       "<style scoped>\n",
       "    .dataframe tbody tr th:only-of-type {\n",
       "        vertical-align: middle;\n",
       "    }\n",
       "\n",
       "    .dataframe tbody tr th {\n",
       "        vertical-align: top;\n",
       "    }\n",
       "\n",
       "    .dataframe thead th {\n",
       "        text-align: right;\n",
       "    }\n",
       "</style>\n",
       "<table border=\"1\" class=\"dataframe\">\n",
       "  <thead>\n",
       "    <tr style=\"text-align: right;\">\n",
       "      <th></th>\n",
       "      <th>High</th>\n",
       "      <th>Low</th>\n",
       "      <th>Open</th>\n",
       "      <th>Close</th>\n",
       "      <th>Volume</th>\n",
       "      <th>Adj Close</th>\n",
       "    </tr>\n",
       "  </thead>\n",
       "  <tbody>\n",
       "    <tr>\n",
       "      <td>High</td>\n",
       "      <td>1.000000</td>\n",
       "      <td>0.999665</td>\n",
       "      <td>0.999833</td>\n",
       "      <td>0.999780</td>\n",
       "      <td>0.113507</td>\n",
       "      <td>0.999780</td>\n",
       "    </tr>\n",
       "    <tr>\n",
       "      <td>Low</td>\n",
       "      <td>0.999665</td>\n",
       "      <td>1.000000</td>\n",
       "      <td>0.999729</td>\n",
       "      <td>0.999805</td>\n",
       "      <td>0.096590</td>\n",
       "      <td>0.999805</td>\n",
       "    </tr>\n",
       "    <tr>\n",
       "      <td>Open</td>\n",
       "      <td>0.999833</td>\n",
       "      <td>0.999729</td>\n",
       "      <td>1.000000</td>\n",
       "      <td>0.999567</td>\n",
       "      <td>0.107257</td>\n",
       "      <td>0.999567</td>\n",
       "    </tr>\n",
       "    <tr>\n",
       "      <td>Close</td>\n",
       "      <td>0.999780</td>\n",
       "      <td>0.999805</td>\n",
       "      <td>0.999567</td>\n",
       "      <td>1.000000</td>\n",
       "      <td>0.104311</td>\n",
       "      <td>1.000000</td>\n",
       "    </tr>\n",
       "    <tr>\n",
       "      <td>Volume</td>\n",
       "      <td>0.113507</td>\n",
       "      <td>0.096590</td>\n",
       "      <td>0.107257</td>\n",
       "      <td>0.104311</td>\n",
       "      <td>1.000000</td>\n",
       "      <td>0.104311</td>\n",
       "    </tr>\n",
       "    <tr>\n",
       "      <td>Adj Close</td>\n",
       "      <td>0.999780</td>\n",
       "      <td>0.999805</td>\n",
       "      <td>0.999567</td>\n",
       "      <td>1.000000</td>\n",
       "      <td>0.104311</td>\n",
       "      <td>1.000000</td>\n",
       "    </tr>\n",
       "  </tbody>\n",
       "</table>\n",
       "</div>"
      ],
      "text/plain": [
       "               High       Low      Open     Close    Volume  Adj Close\n",
       "High       1.000000  0.999665  0.999833  0.999780  0.113507   0.999780\n",
       "Low        0.999665  1.000000  0.999729  0.999805  0.096590   0.999805\n",
       "Open       0.999833  0.999729  1.000000  0.999567  0.107257   0.999567\n",
       "Close      0.999780  0.999805  0.999567  1.000000  0.104311   1.000000\n",
       "Volume     0.113507  0.096590  0.107257  0.104311  1.000000   0.104311\n",
       "Adj Close  0.999780  0.999805  0.999567  1.000000  0.104311   1.000000"
      ]
     },
     "execution_count": 7,
     "metadata": {},
     "output_type": "execute_result"
    }
   ],
   "source": [
    "amzn.corr()"
   ]
  },
  {
   "cell_type": "markdown",
   "metadata": {},
   "source": [
    "### Calculating daily typical price of AMZN  that is mean of (High+Low+Close)"
   ]
  },
  {
   "cell_type": "code",
   "execution_count": 8,
   "metadata": {},
   "outputs": [
    {
     "data": {
      "text/html": [
       "<div>\n",
       "<style scoped>\n",
       "    .dataframe tbody tr th:only-of-type {\n",
       "        vertical-align: middle;\n",
       "    }\n",
       "\n",
       "    .dataframe tbody tr th {\n",
       "        vertical-align: top;\n",
       "    }\n",
       "\n",
       "    .dataframe thead th {\n",
       "        text-align: right;\n",
       "    }\n",
       "</style>\n",
       "<table border=\"1\" class=\"dataframe\">\n",
       "  <thead>\n",
       "    <tr style=\"text-align: right;\">\n",
       "      <th></th>\n",
       "      <th>Date</th>\n",
       "      <th>High</th>\n",
       "      <th>Low</th>\n",
       "      <th>Open</th>\n",
       "      <th>Close</th>\n",
       "      <th>Volume</th>\n",
       "      <th>Adj Close</th>\n",
       "      <th>Typical_Price</th>\n",
       "    </tr>\n",
       "  </thead>\n",
       "  <tbody>\n",
       "    <tr>\n",
       "      <td>0</td>\n",
       "      <td>2014-01-02</td>\n",
       "      <td>399.359985</td>\n",
       "      <td>394.019989</td>\n",
       "      <td>398.799988</td>\n",
       "      <td>397.970001</td>\n",
       "      <td>2137800</td>\n",
       "      <td>397.970001</td>\n",
       "      <td>397.116659</td>\n",
       "    </tr>\n",
       "    <tr>\n",
       "      <td>1</td>\n",
       "      <td>2014-01-03</td>\n",
       "      <td>402.709991</td>\n",
       "      <td>396.220001</td>\n",
       "      <td>398.290009</td>\n",
       "      <td>396.440002</td>\n",
       "      <td>2210200</td>\n",
       "      <td>396.440002</td>\n",
       "      <td>398.456665</td>\n",
       "    </tr>\n",
       "    <tr>\n",
       "      <td>2</td>\n",
       "      <td>2014-01-06</td>\n",
       "      <td>397.000000</td>\n",
       "      <td>388.420013</td>\n",
       "      <td>395.850006</td>\n",
       "      <td>393.630005</td>\n",
       "      <td>3170600</td>\n",
       "      <td>393.630005</td>\n",
       "      <td>393.016673</td>\n",
       "    </tr>\n",
       "    <tr>\n",
       "      <td>3</td>\n",
       "      <td>2014-01-07</td>\n",
       "      <td>398.470001</td>\n",
       "      <td>394.290009</td>\n",
       "      <td>395.040009</td>\n",
       "      <td>398.029999</td>\n",
       "      <td>1916000</td>\n",
       "      <td>398.029999</td>\n",
       "      <td>396.930003</td>\n",
       "    </tr>\n",
       "    <tr>\n",
       "      <td>4</td>\n",
       "      <td>2014-01-08</td>\n",
       "      <td>403.000000</td>\n",
       "      <td>396.040009</td>\n",
       "      <td>398.470001</td>\n",
       "      <td>401.920013</td>\n",
       "      <td>2316500</td>\n",
       "      <td>401.920013</td>\n",
       "      <td>400.320007</td>\n",
       "    </tr>\n",
       "  </tbody>\n",
       "</table>\n",
       "</div>"
      ],
      "text/plain": [
       "        Date        High         Low        Open       Close   Volume  \\\n",
       "0 2014-01-02  399.359985  394.019989  398.799988  397.970001  2137800   \n",
       "1 2014-01-03  402.709991  396.220001  398.290009  396.440002  2210200   \n",
       "2 2014-01-06  397.000000  388.420013  395.850006  393.630005  3170600   \n",
       "3 2014-01-07  398.470001  394.290009  395.040009  398.029999  1916000   \n",
       "4 2014-01-08  403.000000  396.040009  398.470001  401.920013  2316500   \n",
       "\n",
       "    Adj Close  Typical_Price  \n",
       "0  397.970001     397.116659  \n",
       "1  396.440002     398.456665  \n",
       "2  393.630005     393.016673  \n",
       "3  398.029999     396.930003  \n",
       "4  401.920013     400.320007  "
      ]
     },
     "execution_count": 8,
     "metadata": {},
     "output_type": "execute_result"
    }
   ],
   "source": [
    "amzn['Typical_Price'] = amzn[['High','Low','Close']].mean(axis=1)\n",
    "amzn.head()"
   ]
  },
  {
   "cell_type": "markdown",
   "metadata": {},
   "source": [
    "### Fama French Data\n"
   ]
  },
  {
   "cell_type": "code",
   "execution_count": 9,
   "metadata": {},
   "outputs": [
    {
     "data": {
      "text/html": [
       "<div>\n",
       "<style scoped>\n",
       "    .dataframe tbody tr th:only-of-type {\n",
       "        vertical-align: middle;\n",
       "    }\n",
       "\n",
       "    .dataframe tbody tr th {\n",
       "        vertical-align: top;\n",
       "    }\n",
       "\n",
       "    .dataframe thead th {\n",
       "        text-align: right;\n",
       "    }\n",
       "</style>\n",
       "<table border=\"1\" class=\"dataframe\">\n",
       "  <thead>\n",
       "    <tr style=\"text-align: right;\">\n",
       "      <th></th>\n",
       "      <th>Date</th>\n",
       "      <th>Mkt-RF</th>\n",
       "      <th>SMB</th>\n",
       "      <th>HML</th>\n",
       "      <th>RF</th>\n",
       "    </tr>\n",
       "  </thead>\n",
       "  <tbody>\n",
       "    <tr>\n",
       "      <td>0</td>\n",
       "      <td>19260701</td>\n",
       "      <td>0.10</td>\n",
       "      <td>-0.24</td>\n",
       "      <td>-0.28</td>\n",
       "      <td>0.009</td>\n",
       "    </tr>\n",
       "    <tr>\n",
       "      <td>1</td>\n",
       "      <td>19260702</td>\n",
       "      <td>0.45</td>\n",
       "      <td>-0.32</td>\n",
       "      <td>-0.08</td>\n",
       "      <td>0.009</td>\n",
       "    </tr>\n",
       "    <tr>\n",
       "      <td>2</td>\n",
       "      <td>19260706</td>\n",
       "      <td>0.17</td>\n",
       "      <td>0.27</td>\n",
       "      <td>-0.35</td>\n",
       "      <td>0.009</td>\n",
       "    </tr>\n",
       "    <tr>\n",
       "      <td>3</td>\n",
       "      <td>19260707</td>\n",
       "      <td>0.09</td>\n",
       "      <td>-0.59</td>\n",
       "      <td>0.03</td>\n",
       "      <td>0.009</td>\n",
       "    </tr>\n",
       "    <tr>\n",
       "      <td>4</td>\n",
       "      <td>19260708</td>\n",
       "      <td>0.21</td>\n",
       "      <td>-0.36</td>\n",
       "      <td>0.15</td>\n",
       "      <td>0.009</td>\n",
       "    </tr>\n",
       "  </tbody>\n",
       "</table>\n",
       "</div>"
      ],
      "text/plain": [
       "       Date  Mkt-RF   SMB   HML     RF\n",
       "0  19260701    0.10 -0.24 -0.28  0.009\n",
       "1  19260702    0.45 -0.32 -0.08  0.009\n",
       "2  19260706    0.17  0.27 -0.35  0.009\n",
       "3  19260707    0.09 -0.59  0.03  0.009\n",
       "4  19260708    0.21 -0.36  0.15  0.009"
      ]
     },
     "execution_count": 9,
     "metadata": {},
     "output_type": "execute_result"
    }
   ],
   "source": [
    "fama = pd.read_csv(\"../data/F-F_Research_Data_Factors_daily.csv\")\n",
    "fama.head()"
   ]
  },
  {
   "cell_type": "code",
   "execution_count": 10,
   "metadata": {},
   "outputs": [
    {
     "data": {
      "text/html": [
       "<div>\n",
       "<style scoped>\n",
       "    .dataframe tbody tr th:only-of-type {\n",
       "        vertical-align: middle;\n",
       "    }\n",
       "\n",
       "    .dataframe tbody tr th {\n",
       "        vertical-align: top;\n",
       "    }\n",
       "\n",
       "    .dataframe thead th {\n",
       "        text-align: right;\n",
       "    }\n",
       "</style>\n",
       "<table border=\"1\" class=\"dataframe\">\n",
       "  <thead>\n",
       "    <tr style=\"text-align: right;\">\n",
       "      <th></th>\n",
       "      <th>Date</th>\n",
       "      <th>Mkt-RF</th>\n",
       "      <th>SMB</th>\n",
       "      <th>HML</th>\n",
       "      <th>RF</th>\n",
       "    </tr>\n",
       "  </thead>\n",
       "  <tbody>\n",
       "    <tr>\n",
       "      <td>24678</td>\n",
       "      <td>20200224</td>\n",
       "      <td>-3.38</td>\n",
       "      <td>0.19</td>\n",
       "      <td>-0.04</td>\n",
       "      <td>0.006</td>\n",
       "    </tr>\n",
       "    <tr>\n",
       "      <td>24679</td>\n",
       "      <td>20200225</td>\n",
       "      <td>-3.09</td>\n",
       "      <td>-0.10</td>\n",
       "      <td>-0.72</td>\n",
       "      <td>0.006</td>\n",
       "    </tr>\n",
       "    <tr>\n",
       "      <td>24680</td>\n",
       "      <td>20200226</td>\n",
       "      <td>-0.52</td>\n",
       "      <td>-0.41</td>\n",
       "      <td>-1.26</td>\n",
       "      <td>0.006</td>\n",
       "    </tr>\n",
       "    <tr>\n",
       "      <td>24681</td>\n",
       "      <td>20200227</td>\n",
       "      <td>-4.22</td>\n",
       "      <td>0.73</td>\n",
       "      <td>0.14</td>\n",
       "      <td>0.006</td>\n",
       "    </tr>\n",
       "    <tr>\n",
       "      <td>24682</td>\n",
       "      <td>20200228</td>\n",
       "      <td>-0.78</td>\n",
       "      <td>0.27</td>\n",
       "      <td>-0.78</td>\n",
       "      <td>0.006</td>\n",
       "    </tr>\n",
       "  </tbody>\n",
       "</table>\n",
       "</div>"
      ],
      "text/plain": [
       "           Date  Mkt-RF   SMB   HML     RF\n",
       "24678  20200224   -3.38  0.19 -0.04  0.006\n",
       "24679  20200225   -3.09 -0.10 -0.72  0.006\n",
       "24680  20200226   -0.52 -0.41 -1.26  0.006\n",
       "24681  20200227   -4.22  0.73  0.14  0.006\n",
       "24682  20200228   -0.78  0.27 -0.78  0.006"
      ]
     },
     "execution_count": 10,
     "metadata": {},
     "output_type": "execute_result"
    }
   ],
   "source": [
    "fama.tail()"
   ]
  },
  {
   "cell_type": "code",
   "execution_count": 11,
   "metadata": {},
   "outputs": [
    {
     "data": {
      "text/plain": [
       "123415"
      ]
     },
     "execution_count": 11,
     "metadata": {},
     "output_type": "execute_result"
    }
   ],
   "source": [
    "fama.size"
   ]
  },
  {
   "cell_type": "code",
   "execution_count": 12,
   "metadata": {},
   "outputs": [
    {
     "name": "stdout",
     "output_type": "stream",
     "text": [
      "<class 'pandas.core.frame.DataFrame'>\n",
      "RangeIndex: 24683 entries, 0 to 24682\n",
      "Data columns (total 5 columns):\n",
      "Date      24683 non-null int64\n",
      "Mkt-RF    24683 non-null float64\n",
      "SMB       24683 non-null float64\n",
      "HML       24683 non-null float64\n",
      "RF        24683 non-null float64\n",
      "dtypes: float64(4), int64(1)\n",
      "memory usage: 964.3 KB\n"
     ]
    }
   ],
   "source": [
    "fama.info()"
   ]
  },
  {
   "cell_type": "markdown",
   "metadata": {},
   "source": [
    "### 'Date' is an object. Hence, we need to convert it to Date format."
   ]
  },
  {
   "cell_type": "code",
   "execution_count": 13,
   "metadata": {},
   "outputs": [],
   "source": [
    "fama['Date'] = pd.to_datetime(fama['Date'], format='%Y%m%d')"
   ]
  },
  {
   "cell_type": "code",
   "execution_count": 14,
   "metadata": {},
   "outputs": [
    {
     "data": {
      "text/plain": [
       "dtype('<M8[ns]')"
      ]
     },
     "execution_count": 14,
     "metadata": {},
     "output_type": "execute_result"
    }
   ],
   "source": [
    "fama['Date'].dtype"
   ]
  },
  {
   "cell_type": "markdown",
   "metadata": {},
   "source": [
    "# ADS index data"
   ]
  },
  {
   "cell_type": "code",
   "execution_count": 15,
   "metadata": {},
   "outputs": [
    {
     "data": {
      "text/html": [
       "<div>\n",
       "<style scoped>\n",
       "    .dataframe tbody tr th:only-of-type {\n",
       "        vertical-align: middle;\n",
       "    }\n",
       "\n",
       "    .dataframe tbody tr th {\n",
       "        vertical-align: top;\n",
       "    }\n",
       "\n",
       "    .dataframe thead th {\n",
       "        text-align: right;\n",
       "    }\n",
       "</style>\n",
       "<table border=\"1\" class=\"dataframe\">\n",
       "  <thead>\n",
       "    <tr style=\"text-align: right;\">\n",
       "      <th></th>\n",
       "      <th>Date</th>\n",
       "      <th>ADS_Index_010220</th>\n",
       "      <th>ADS_Index_010920</th>\n",
       "      <th>ADS_Index_011020</th>\n",
       "      <th>ADS_Index_011620</th>\n",
       "      <th>ADS_Index_011720</th>\n",
       "      <th>ADS_Index_012320</th>\n",
       "      <th>ADS_Index_013020</th>\n",
       "      <th>ADS_Index_013120</th>\n",
       "      <th>ADS_Index_020620</th>\n",
       "      <th>...</th>\n",
       "      <th>ADS_Index_022820</th>\n",
       "      <th>ADS_Index_030520</th>\n",
       "      <th>ADS_Index_030620</th>\n",
       "      <th>ADS_Index_031220</th>\n",
       "      <th>ADS_Index_031720</th>\n",
       "      <th>ADS_Index_031920</th>\n",
       "      <th>ADS_Index_032620</th>\n",
       "      <th>ADS_Index_032720</th>\n",
       "      <th>ADS_Index_040220</th>\n",
       "      <th>ADS_Index_040320</th>\n",
       "    </tr>\n",
       "  </thead>\n",
       "  <tbody>\n",
       "    <tr>\n",
       "      <td>0</td>\n",
       "      <td>1960-03-01</td>\n",
       "      <td>-2.395069</td>\n",
       "      <td>-2.395069</td>\n",
       "      <td>-2.395069</td>\n",
       "      <td>-2.395069</td>\n",
       "      <td>-2.395069</td>\n",
       "      <td>-2.395069</td>\n",
       "      <td>-2.395069</td>\n",
       "      <td>-2.395069</td>\n",
       "      <td>-2.395069</td>\n",
       "      <td>...</td>\n",
       "      <td>-2.395069</td>\n",
       "      <td>-2.395069</td>\n",
       "      <td>-2.395069</td>\n",
       "      <td>-2.395069</td>\n",
       "      <td>-2.395069</td>\n",
       "      <td>-2.395069</td>\n",
       "      <td>-2.395069</td>\n",
       "      <td>-2.395069</td>\n",
       "      <td>-2.395069</td>\n",
       "      <td>-2.395069</td>\n",
       "    </tr>\n",
       "    <tr>\n",
       "      <td>1</td>\n",
       "      <td>1960-03-02</td>\n",
       "      <td>-2.369012</td>\n",
       "      <td>-2.369012</td>\n",
       "      <td>-2.369012</td>\n",
       "      <td>-2.369012</td>\n",
       "      <td>-2.369012</td>\n",
       "      <td>-2.369012</td>\n",
       "      <td>-2.369012</td>\n",
       "      <td>-2.369012</td>\n",
       "      <td>-2.369012</td>\n",
       "      <td>...</td>\n",
       "      <td>-2.369012</td>\n",
       "      <td>-2.369012</td>\n",
       "      <td>-2.369012</td>\n",
       "      <td>-2.369012</td>\n",
       "      <td>-2.369012</td>\n",
       "      <td>-2.369012</td>\n",
       "      <td>-2.369012</td>\n",
       "      <td>-2.369012</td>\n",
       "      <td>-2.369012</td>\n",
       "      <td>-2.369012</td>\n",
       "    </tr>\n",
       "    <tr>\n",
       "      <td>2</td>\n",
       "      <td>1960-03-03</td>\n",
       "      <td>-2.341905</td>\n",
       "      <td>-2.341905</td>\n",
       "      <td>-2.341905</td>\n",
       "      <td>-2.341905</td>\n",
       "      <td>-2.341905</td>\n",
       "      <td>-2.341905</td>\n",
       "      <td>-2.341905</td>\n",
       "      <td>-2.341905</td>\n",
       "      <td>-2.341905</td>\n",
       "      <td>...</td>\n",
       "      <td>-2.341905</td>\n",
       "      <td>-2.341905</td>\n",
       "      <td>-2.341905</td>\n",
       "      <td>-2.341905</td>\n",
       "      <td>-2.341905</td>\n",
       "      <td>-2.341905</td>\n",
       "      <td>-2.341905</td>\n",
       "      <td>-2.341905</td>\n",
       "      <td>-2.341905</td>\n",
       "      <td>-2.341905</td>\n",
       "    </tr>\n",
       "    <tr>\n",
       "      <td>3</td>\n",
       "      <td>1960-03-04</td>\n",
       "      <td>-2.313746</td>\n",
       "      <td>-2.313746</td>\n",
       "      <td>-2.313746</td>\n",
       "      <td>-2.313746</td>\n",
       "      <td>-2.313746</td>\n",
       "      <td>-2.313746</td>\n",
       "      <td>-2.313746</td>\n",
       "      <td>-2.313746</td>\n",
       "      <td>-2.313746</td>\n",
       "      <td>...</td>\n",
       "      <td>-2.313746</td>\n",
       "      <td>-2.313746</td>\n",
       "      <td>-2.313746</td>\n",
       "      <td>-2.313746</td>\n",
       "      <td>-2.313746</td>\n",
       "      <td>-2.313746</td>\n",
       "      <td>-2.313746</td>\n",
       "      <td>-2.313746</td>\n",
       "      <td>-2.313746</td>\n",
       "      <td>-2.313746</td>\n",
       "    </tr>\n",
       "    <tr>\n",
       "      <td>4</td>\n",
       "      <td>1960-03-05</td>\n",
       "      <td>-2.284532</td>\n",
       "      <td>-2.284532</td>\n",
       "      <td>-2.284532</td>\n",
       "      <td>-2.284532</td>\n",
       "      <td>-2.284532</td>\n",
       "      <td>-2.284532</td>\n",
       "      <td>-2.284532</td>\n",
       "      <td>-2.284532</td>\n",
       "      <td>-2.284532</td>\n",
       "      <td>...</td>\n",
       "      <td>-2.284532</td>\n",
       "      <td>-2.284532</td>\n",
       "      <td>-2.284532</td>\n",
       "      <td>-2.284532</td>\n",
       "      <td>-2.284532</td>\n",
       "      <td>-2.284532</td>\n",
       "      <td>-2.284532</td>\n",
       "      <td>-2.284532</td>\n",
       "      <td>-2.284532</td>\n",
       "      <td>-2.284532</td>\n",
       "    </tr>\n",
       "    <tr>\n",
       "      <td>...</td>\n",
       "      <td>...</td>\n",
       "      <td>...</td>\n",
       "      <td>...</td>\n",
       "      <td>...</td>\n",
       "      <td>...</td>\n",
       "      <td>...</td>\n",
       "      <td>...</td>\n",
       "      <td>...</td>\n",
       "      <td>...</td>\n",
       "      <td>...</td>\n",
       "      <td>...</td>\n",
       "      <td>...</td>\n",
       "      <td>...</td>\n",
       "      <td>...</td>\n",
       "      <td>...</td>\n",
       "      <td>...</td>\n",
       "      <td>...</td>\n",
       "      <td>...</td>\n",
       "      <td>...</td>\n",
       "      <td>...</td>\n",
       "      <td>...</td>\n",
       "    </tr>\n",
       "    <tr>\n",
       "      <td>22216</td>\n",
       "      <td>2020-12-27</td>\n",
       "      <td>NaN</td>\n",
       "      <td>NaN</td>\n",
       "      <td>NaN</td>\n",
       "      <td>NaN</td>\n",
       "      <td>NaN</td>\n",
       "      <td>NaN</td>\n",
       "      <td>NaN</td>\n",
       "      <td>NaN</td>\n",
       "      <td>NaN</td>\n",
       "      <td>...</td>\n",
       "      <td>NaN</td>\n",
       "      <td>NaN</td>\n",
       "      <td>NaN</td>\n",
       "      <td>NaN</td>\n",
       "      <td>NaN</td>\n",
       "      <td>NaN</td>\n",
       "      <td>NaN</td>\n",
       "      <td>NaN</td>\n",
       "      <td>NaN</td>\n",
       "      <td>NaN</td>\n",
       "    </tr>\n",
       "    <tr>\n",
       "      <td>22217</td>\n",
       "      <td>2020-12-28</td>\n",
       "      <td>NaN</td>\n",
       "      <td>NaN</td>\n",
       "      <td>NaN</td>\n",
       "      <td>NaN</td>\n",
       "      <td>NaN</td>\n",
       "      <td>NaN</td>\n",
       "      <td>NaN</td>\n",
       "      <td>NaN</td>\n",
       "      <td>NaN</td>\n",
       "      <td>...</td>\n",
       "      <td>NaN</td>\n",
       "      <td>NaN</td>\n",
       "      <td>NaN</td>\n",
       "      <td>NaN</td>\n",
       "      <td>NaN</td>\n",
       "      <td>NaN</td>\n",
       "      <td>NaN</td>\n",
       "      <td>NaN</td>\n",
       "      <td>NaN</td>\n",
       "      <td>NaN</td>\n",
       "    </tr>\n",
       "    <tr>\n",
       "      <td>22218</td>\n",
       "      <td>2020-12-29</td>\n",
       "      <td>NaN</td>\n",
       "      <td>NaN</td>\n",
       "      <td>NaN</td>\n",
       "      <td>NaN</td>\n",
       "      <td>NaN</td>\n",
       "      <td>NaN</td>\n",
       "      <td>NaN</td>\n",
       "      <td>NaN</td>\n",
       "      <td>NaN</td>\n",
       "      <td>...</td>\n",
       "      <td>NaN</td>\n",
       "      <td>NaN</td>\n",
       "      <td>NaN</td>\n",
       "      <td>NaN</td>\n",
       "      <td>NaN</td>\n",
       "      <td>NaN</td>\n",
       "      <td>NaN</td>\n",
       "      <td>NaN</td>\n",
       "      <td>NaN</td>\n",
       "      <td>NaN</td>\n",
       "    </tr>\n",
       "    <tr>\n",
       "      <td>22219</td>\n",
       "      <td>2020-12-30</td>\n",
       "      <td>NaN</td>\n",
       "      <td>NaN</td>\n",
       "      <td>NaN</td>\n",
       "      <td>NaN</td>\n",
       "      <td>NaN</td>\n",
       "      <td>NaN</td>\n",
       "      <td>NaN</td>\n",
       "      <td>NaN</td>\n",
       "      <td>NaN</td>\n",
       "      <td>...</td>\n",
       "      <td>NaN</td>\n",
       "      <td>NaN</td>\n",
       "      <td>NaN</td>\n",
       "      <td>NaN</td>\n",
       "      <td>NaN</td>\n",
       "      <td>NaN</td>\n",
       "      <td>NaN</td>\n",
       "      <td>NaN</td>\n",
       "      <td>NaN</td>\n",
       "      <td>NaN</td>\n",
       "    </tr>\n",
       "    <tr>\n",
       "      <td>22220</td>\n",
       "      <td>2020-12-31</td>\n",
       "      <td>NaN</td>\n",
       "      <td>NaN</td>\n",
       "      <td>NaN</td>\n",
       "      <td>NaN</td>\n",
       "      <td>NaN</td>\n",
       "      <td>NaN</td>\n",
       "      <td>NaN</td>\n",
       "      <td>NaN</td>\n",
       "      <td>NaN</td>\n",
       "      <td>...</td>\n",
       "      <td>NaN</td>\n",
       "      <td>NaN</td>\n",
       "      <td>NaN</td>\n",
       "      <td>NaN</td>\n",
       "      <td>NaN</td>\n",
       "      <td>NaN</td>\n",
       "      <td>NaN</td>\n",
       "      <td>NaN</td>\n",
       "      <td>NaN</td>\n",
       "      <td>NaN</td>\n",
       "    </tr>\n",
       "  </tbody>\n",
       "</table>\n",
       "<p>22221 rows × 25 columns</p>\n",
       "</div>"
      ],
      "text/plain": [
       "            Date  ADS_Index_010220  ADS_Index_010920  ADS_Index_011020  \\\n",
       "0     1960-03-01         -2.395069         -2.395069         -2.395069   \n",
       "1     1960-03-02         -2.369012         -2.369012         -2.369012   \n",
       "2     1960-03-03         -2.341905         -2.341905         -2.341905   \n",
       "3     1960-03-04         -2.313746         -2.313746         -2.313746   \n",
       "4     1960-03-05         -2.284532         -2.284532         -2.284532   \n",
       "...          ...               ...               ...               ...   \n",
       "22216 2020-12-27               NaN               NaN               NaN   \n",
       "22217 2020-12-28               NaN               NaN               NaN   \n",
       "22218 2020-12-29               NaN               NaN               NaN   \n",
       "22219 2020-12-30               NaN               NaN               NaN   \n",
       "22220 2020-12-31               NaN               NaN               NaN   \n",
       "\n",
       "       ADS_Index_011620  ADS_Index_011720  ADS_Index_012320  ADS_Index_013020  \\\n",
       "0             -2.395069         -2.395069         -2.395069         -2.395069   \n",
       "1             -2.369012         -2.369012         -2.369012         -2.369012   \n",
       "2             -2.341905         -2.341905         -2.341905         -2.341905   \n",
       "3             -2.313746         -2.313746         -2.313746         -2.313746   \n",
       "4             -2.284532         -2.284532         -2.284532         -2.284532   \n",
       "...                 ...               ...               ...               ...   \n",
       "22216               NaN               NaN               NaN               NaN   \n",
       "22217               NaN               NaN               NaN               NaN   \n",
       "22218               NaN               NaN               NaN               NaN   \n",
       "22219               NaN               NaN               NaN               NaN   \n",
       "22220               NaN               NaN               NaN               NaN   \n",
       "\n",
       "       ADS_Index_013120  ADS_Index_020620  ...  ADS_Index_022820  \\\n",
       "0             -2.395069         -2.395069  ...         -2.395069   \n",
       "1             -2.369012         -2.369012  ...         -2.369012   \n",
       "2             -2.341905         -2.341905  ...         -2.341905   \n",
       "3             -2.313746         -2.313746  ...         -2.313746   \n",
       "4             -2.284532         -2.284532  ...         -2.284532   \n",
       "...                 ...               ...  ...               ...   \n",
       "22216               NaN               NaN  ...               NaN   \n",
       "22217               NaN               NaN  ...               NaN   \n",
       "22218               NaN               NaN  ...               NaN   \n",
       "22219               NaN               NaN  ...               NaN   \n",
       "22220               NaN               NaN  ...               NaN   \n",
       "\n",
       "       ADS_Index_030520  ADS_Index_030620  ADS_Index_031220  ADS_Index_031720  \\\n",
       "0             -2.395069         -2.395069         -2.395069         -2.395069   \n",
       "1             -2.369012         -2.369012         -2.369012         -2.369012   \n",
       "2             -2.341905         -2.341905         -2.341905         -2.341905   \n",
       "3             -2.313746         -2.313746         -2.313746         -2.313746   \n",
       "4             -2.284532         -2.284532         -2.284532         -2.284532   \n",
       "...                 ...               ...               ...               ...   \n",
       "22216               NaN               NaN               NaN               NaN   \n",
       "22217               NaN               NaN               NaN               NaN   \n",
       "22218               NaN               NaN               NaN               NaN   \n",
       "22219               NaN               NaN               NaN               NaN   \n",
       "22220               NaN               NaN               NaN               NaN   \n",
       "\n",
       "       ADS_Index_031920  ADS_Index_032620  ADS_Index_032720  ADS_Index_040220  \\\n",
       "0             -2.395069         -2.395069         -2.395069         -2.395069   \n",
       "1             -2.369012         -2.369012         -2.369012         -2.369012   \n",
       "2             -2.341905         -2.341905         -2.341905         -2.341905   \n",
       "3             -2.313746         -2.313746         -2.313746         -2.313746   \n",
       "4             -2.284532         -2.284532         -2.284532         -2.284532   \n",
       "...                 ...               ...               ...               ...   \n",
       "22216               NaN               NaN               NaN               NaN   \n",
       "22217               NaN               NaN               NaN               NaN   \n",
       "22218               NaN               NaN               NaN               NaN   \n",
       "22219               NaN               NaN               NaN               NaN   \n",
       "22220               NaN               NaN               NaN               NaN   \n",
       "\n",
       "       ADS_Index_040320  \n",
       "0             -2.395069  \n",
       "1             -2.369012  \n",
       "2             -2.341905  \n",
       "3             -2.313746  \n",
       "4             -2.284532  \n",
       "...                 ...  \n",
       "22216               NaN  \n",
       "22217               NaN  \n",
       "22218               NaN  \n",
       "22219               NaN  \n",
       "22220               NaN  \n",
       "\n",
       "[22221 rows x 25 columns]"
      ]
     },
     "execution_count": 15,
     "metadata": {},
     "output_type": "execute_result"
    }
   ],
   "source": [
    "ads = pd.read_excel(\"../data/ads_vintages-zip.xlsx\")\n",
    "ads"
   ]
  },
  {
   "cell_type": "code",
   "execution_count": 16,
   "metadata": {},
   "outputs": [
    {
     "data": {
      "text/html": [
       "<div>\n",
       "<style scoped>\n",
       "    .dataframe tbody tr th:only-of-type {\n",
       "        vertical-align: middle;\n",
       "    }\n",
       "\n",
       "    .dataframe tbody tr th {\n",
       "        vertical-align: top;\n",
       "    }\n",
       "\n",
       "    .dataframe thead th {\n",
       "        text-align: right;\n",
       "    }\n",
       "</style>\n",
       "<table border=\"1\" class=\"dataframe\">\n",
       "  <thead>\n",
       "    <tr style=\"text-align: right;\">\n",
       "      <th></th>\n",
       "      <th>Date</th>\n",
       "      <th>ADS_Index_010220</th>\n",
       "      <th>ADS_Index_010920</th>\n",
       "      <th>ADS_Index_011020</th>\n",
       "      <th>ADS_Index_011620</th>\n",
       "      <th>ADS_Index_011720</th>\n",
       "      <th>ADS_Index_012320</th>\n",
       "      <th>ADS_Index_013020</th>\n",
       "      <th>ADS_Index_013120</th>\n",
       "      <th>ADS_Index_020620</th>\n",
       "      <th>...</th>\n",
       "      <th>ADS_Index_022820</th>\n",
       "      <th>ADS_Index_030520</th>\n",
       "      <th>ADS_Index_030620</th>\n",
       "      <th>ADS_Index_031220</th>\n",
       "      <th>ADS_Index_031720</th>\n",
       "      <th>ADS_Index_031920</th>\n",
       "      <th>ADS_Index_032620</th>\n",
       "      <th>ADS_Index_032720</th>\n",
       "      <th>ADS_Index_040220</th>\n",
       "      <th>ADS_Index_040320</th>\n",
       "    </tr>\n",
       "  </thead>\n",
       "  <tbody>\n",
       "    <tr>\n",
       "      <td>0</td>\n",
       "      <td>1960-03-01</td>\n",
       "      <td>-2.395069</td>\n",
       "      <td>-2.395069</td>\n",
       "      <td>-2.395069</td>\n",
       "      <td>-2.395069</td>\n",
       "      <td>-2.395069</td>\n",
       "      <td>-2.395069</td>\n",
       "      <td>-2.395069</td>\n",
       "      <td>-2.395069</td>\n",
       "      <td>-2.395069</td>\n",
       "      <td>...</td>\n",
       "      <td>-2.395069</td>\n",
       "      <td>-2.395069</td>\n",
       "      <td>-2.395069</td>\n",
       "      <td>-2.395069</td>\n",
       "      <td>-2.395069</td>\n",
       "      <td>-2.395069</td>\n",
       "      <td>-2.395069</td>\n",
       "      <td>-2.395069</td>\n",
       "      <td>-2.395069</td>\n",
       "      <td>-2.395069</td>\n",
       "    </tr>\n",
       "    <tr>\n",
       "      <td>1</td>\n",
       "      <td>1960-03-02</td>\n",
       "      <td>-2.369012</td>\n",
       "      <td>-2.369012</td>\n",
       "      <td>-2.369012</td>\n",
       "      <td>-2.369012</td>\n",
       "      <td>-2.369012</td>\n",
       "      <td>-2.369012</td>\n",
       "      <td>-2.369012</td>\n",
       "      <td>-2.369012</td>\n",
       "      <td>-2.369012</td>\n",
       "      <td>...</td>\n",
       "      <td>-2.369012</td>\n",
       "      <td>-2.369012</td>\n",
       "      <td>-2.369012</td>\n",
       "      <td>-2.369012</td>\n",
       "      <td>-2.369012</td>\n",
       "      <td>-2.369012</td>\n",
       "      <td>-2.369012</td>\n",
       "      <td>-2.369012</td>\n",
       "      <td>-2.369012</td>\n",
       "      <td>-2.369012</td>\n",
       "    </tr>\n",
       "    <tr>\n",
       "      <td>2</td>\n",
       "      <td>1960-03-03</td>\n",
       "      <td>-2.341905</td>\n",
       "      <td>-2.341905</td>\n",
       "      <td>-2.341905</td>\n",
       "      <td>-2.341905</td>\n",
       "      <td>-2.341905</td>\n",
       "      <td>-2.341905</td>\n",
       "      <td>-2.341905</td>\n",
       "      <td>-2.341905</td>\n",
       "      <td>-2.341905</td>\n",
       "      <td>...</td>\n",
       "      <td>-2.341905</td>\n",
       "      <td>-2.341905</td>\n",
       "      <td>-2.341905</td>\n",
       "      <td>-2.341905</td>\n",
       "      <td>-2.341905</td>\n",
       "      <td>-2.341905</td>\n",
       "      <td>-2.341905</td>\n",
       "      <td>-2.341905</td>\n",
       "      <td>-2.341905</td>\n",
       "      <td>-2.341905</td>\n",
       "    </tr>\n",
       "    <tr>\n",
       "      <td>3</td>\n",
       "      <td>1960-03-04</td>\n",
       "      <td>-2.313746</td>\n",
       "      <td>-2.313746</td>\n",
       "      <td>-2.313746</td>\n",
       "      <td>-2.313746</td>\n",
       "      <td>-2.313746</td>\n",
       "      <td>-2.313746</td>\n",
       "      <td>-2.313746</td>\n",
       "      <td>-2.313746</td>\n",
       "      <td>-2.313746</td>\n",
       "      <td>...</td>\n",
       "      <td>-2.313746</td>\n",
       "      <td>-2.313746</td>\n",
       "      <td>-2.313746</td>\n",
       "      <td>-2.313746</td>\n",
       "      <td>-2.313746</td>\n",
       "      <td>-2.313746</td>\n",
       "      <td>-2.313746</td>\n",
       "      <td>-2.313746</td>\n",
       "      <td>-2.313746</td>\n",
       "      <td>-2.313746</td>\n",
       "    </tr>\n",
       "    <tr>\n",
       "      <td>4</td>\n",
       "      <td>1960-03-05</td>\n",
       "      <td>-2.284532</td>\n",
       "      <td>-2.284532</td>\n",
       "      <td>-2.284532</td>\n",
       "      <td>-2.284532</td>\n",
       "      <td>-2.284532</td>\n",
       "      <td>-2.284532</td>\n",
       "      <td>-2.284532</td>\n",
       "      <td>-2.284532</td>\n",
       "      <td>-2.284532</td>\n",
       "      <td>...</td>\n",
       "      <td>-2.284532</td>\n",
       "      <td>-2.284532</td>\n",
       "      <td>-2.284532</td>\n",
       "      <td>-2.284532</td>\n",
       "      <td>-2.284532</td>\n",
       "      <td>-2.284532</td>\n",
       "      <td>-2.284532</td>\n",
       "      <td>-2.284532</td>\n",
       "      <td>-2.284532</td>\n",
       "      <td>-2.284532</td>\n",
       "    </tr>\n",
       "  </tbody>\n",
       "</table>\n",
       "<p>5 rows × 25 columns</p>\n",
       "</div>"
      ],
      "text/plain": [
       "        Date  ADS_Index_010220  ADS_Index_010920  ADS_Index_011020  \\\n",
       "0 1960-03-01         -2.395069         -2.395069         -2.395069   \n",
       "1 1960-03-02         -2.369012         -2.369012         -2.369012   \n",
       "2 1960-03-03         -2.341905         -2.341905         -2.341905   \n",
       "3 1960-03-04         -2.313746         -2.313746         -2.313746   \n",
       "4 1960-03-05         -2.284532         -2.284532         -2.284532   \n",
       "\n",
       "   ADS_Index_011620  ADS_Index_011720  ADS_Index_012320  ADS_Index_013020  \\\n",
       "0         -2.395069         -2.395069         -2.395069         -2.395069   \n",
       "1         -2.369012         -2.369012         -2.369012         -2.369012   \n",
       "2         -2.341905         -2.341905         -2.341905         -2.341905   \n",
       "3         -2.313746         -2.313746         -2.313746         -2.313746   \n",
       "4         -2.284532         -2.284532         -2.284532         -2.284532   \n",
       "\n",
       "   ADS_Index_013120  ADS_Index_020620  ...  ADS_Index_022820  \\\n",
       "0         -2.395069         -2.395069  ...         -2.395069   \n",
       "1         -2.369012         -2.369012  ...         -2.369012   \n",
       "2         -2.341905         -2.341905  ...         -2.341905   \n",
       "3         -2.313746         -2.313746  ...         -2.313746   \n",
       "4         -2.284532         -2.284532  ...         -2.284532   \n",
       "\n",
       "   ADS_Index_030520  ADS_Index_030620  ADS_Index_031220  ADS_Index_031720  \\\n",
       "0         -2.395069         -2.395069         -2.395069         -2.395069   \n",
       "1         -2.369012         -2.369012         -2.369012         -2.369012   \n",
       "2         -2.341905         -2.341905         -2.341905         -2.341905   \n",
       "3         -2.313746         -2.313746         -2.313746         -2.313746   \n",
       "4         -2.284532         -2.284532         -2.284532         -2.284532   \n",
       "\n",
       "   ADS_Index_031920  ADS_Index_032620  ADS_Index_032720  ADS_Index_040220  \\\n",
       "0         -2.395069         -2.395069         -2.395069         -2.395069   \n",
       "1         -2.369012         -2.369012         -2.369012         -2.369012   \n",
       "2         -2.341905         -2.341905         -2.341905         -2.341905   \n",
       "3         -2.313746         -2.313746         -2.313746         -2.313746   \n",
       "4         -2.284532         -2.284532         -2.284532         -2.284532   \n",
       "\n",
       "   ADS_Index_040320  \n",
       "0         -2.395069  \n",
       "1         -2.369012  \n",
       "2         -2.341905  \n",
       "3         -2.313746  \n",
       "4         -2.284532  \n",
       "\n",
       "[5 rows x 25 columns]"
      ]
     },
     "execution_count": 16,
     "metadata": {},
     "output_type": "execute_result"
    }
   ],
   "source": [
    "ads.head()"
   ]
  },
  {
   "cell_type": "markdown",
   "metadata": {},
   "source": [
    "### Dropping unwanted columns from ADS Data"
   ]
  },
  {
   "cell_type": "code",
   "execution_count": 17,
   "metadata": {},
   "outputs": [],
   "source": [
    "ADS = ads.loc[:,['Date','ADS_Index_010920']]"
   ]
  },
  {
   "cell_type": "code",
   "execution_count": 18,
   "metadata": {},
   "outputs": [
    {
     "data": {
      "text/html": [
       "<div>\n",
       "<style scoped>\n",
       "    .dataframe tbody tr th:only-of-type {\n",
       "        vertical-align: middle;\n",
       "    }\n",
       "\n",
       "    .dataframe tbody tr th {\n",
       "        vertical-align: top;\n",
       "    }\n",
       "\n",
       "    .dataframe thead th {\n",
       "        text-align: right;\n",
       "    }\n",
       "</style>\n",
       "<table border=\"1\" class=\"dataframe\">\n",
       "  <thead>\n",
       "    <tr style=\"text-align: right;\">\n",
       "      <th></th>\n",
       "      <th>Date</th>\n",
       "      <th>ADS_Index_010920</th>\n",
       "    </tr>\n",
       "  </thead>\n",
       "  <tbody>\n",
       "    <tr>\n",
       "      <td>0</td>\n",
       "      <td>1960-03-01</td>\n",
       "      <td>-2.395069</td>\n",
       "    </tr>\n",
       "    <tr>\n",
       "      <td>1</td>\n",
       "      <td>1960-03-02</td>\n",
       "      <td>-2.369012</td>\n",
       "    </tr>\n",
       "    <tr>\n",
       "      <td>2</td>\n",
       "      <td>1960-03-03</td>\n",
       "      <td>-2.341905</td>\n",
       "    </tr>\n",
       "    <tr>\n",
       "      <td>3</td>\n",
       "      <td>1960-03-04</td>\n",
       "      <td>-2.313746</td>\n",
       "    </tr>\n",
       "    <tr>\n",
       "      <td>4</td>\n",
       "      <td>1960-03-05</td>\n",
       "      <td>-2.284532</td>\n",
       "    </tr>\n",
       "  </tbody>\n",
       "</table>\n",
       "</div>"
      ],
      "text/plain": [
       "        Date  ADS_Index_010920\n",
       "0 1960-03-01         -2.395069\n",
       "1 1960-03-02         -2.369012\n",
       "2 1960-03-03         -2.341905\n",
       "3 1960-03-04         -2.313746\n",
       "4 1960-03-05         -2.284532"
      ]
     },
     "execution_count": 18,
     "metadata": {},
     "output_type": "execute_result"
    }
   ],
   "source": [
    "ADS.head()"
   ]
  },
  {
   "cell_type": "code",
   "execution_count": 19,
   "metadata": {},
   "outputs": [
    {
     "name": "stdout",
     "output_type": "stream",
     "text": [
      "<class 'pandas.core.frame.DataFrame'>\n",
      "RangeIndex: 22221 entries, 0 to 22220\n",
      "Data columns (total 2 columns):\n",
      "Date                22221 non-null datetime64[ns]\n",
      "ADS_Index_010920    21859 non-null float64\n",
      "dtypes: datetime64[ns](1), float64(1)\n",
      "memory usage: 347.3 KB\n"
     ]
    }
   ],
   "source": [
    "ADS.info()"
   ]
  },
  {
   "cell_type": "markdown",
   "metadata": {},
   "source": [
    "# Merging Amazon data with FAMA AND ADS\n"
   ]
  },
  {
   "cell_type": "code",
   "execution_count": 20,
   "metadata": {},
   "outputs": [],
   "source": [
    "amzn_AF = pd.merge(amzn, fama, on='Date')"
   ]
  },
  {
   "cell_type": "code",
   "execution_count": 21,
   "metadata": {},
   "outputs": [
    {
     "data": {
      "text/html": [
       "<div>\n",
       "<style scoped>\n",
       "    .dataframe tbody tr th:only-of-type {\n",
       "        vertical-align: middle;\n",
       "    }\n",
       "\n",
       "    .dataframe tbody tr th {\n",
       "        vertical-align: top;\n",
       "    }\n",
       "\n",
       "    .dataframe thead th {\n",
       "        text-align: right;\n",
       "    }\n",
       "</style>\n",
       "<table border=\"1\" class=\"dataframe\">\n",
       "  <thead>\n",
       "    <tr style=\"text-align: right;\">\n",
       "      <th></th>\n",
       "      <th>Date</th>\n",
       "      <th>High</th>\n",
       "      <th>Low</th>\n",
       "      <th>Open</th>\n",
       "      <th>Close</th>\n",
       "      <th>Volume</th>\n",
       "      <th>Adj Close</th>\n",
       "      <th>Typical_Price</th>\n",
       "      <th>Mkt-RF</th>\n",
       "      <th>SMB</th>\n",
       "      <th>HML</th>\n",
       "      <th>RF</th>\n",
       "    </tr>\n",
       "  </thead>\n",
       "  <tbody>\n",
       "    <tr>\n",
       "      <td>0</td>\n",
       "      <td>2014-01-02</td>\n",
       "      <td>399.359985</td>\n",
       "      <td>394.019989</td>\n",
       "      <td>398.799988</td>\n",
       "      <td>397.970001</td>\n",
       "      <td>2137800</td>\n",
       "      <td>397.970001</td>\n",
       "      <td>397.116659</td>\n",
       "      <td>-0.88</td>\n",
       "      <td>-0.27</td>\n",
       "      <td>0.12</td>\n",
       "      <td>0.0</td>\n",
       "    </tr>\n",
       "    <tr>\n",
       "      <td>1</td>\n",
       "      <td>2014-01-03</td>\n",
       "      <td>402.709991</td>\n",
       "      <td>396.220001</td>\n",
       "      <td>398.290009</td>\n",
       "      <td>396.440002</td>\n",
       "      <td>2210200</td>\n",
       "      <td>396.440002</td>\n",
       "      <td>398.456665</td>\n",
       "      <td>0.03</td>\n",
       "      <td>0.36</td>\n",
       "      <td>0.05</td>\n",
       "      <td>0.0</td>\n",
       "    </tr>\n",
       "    <tr>\n",
       "      <td>2</td>\n",
       "      <td>2014-01-06</td>\n",
       "      <td>397.000000</td>\n",
       "      <td>388.420013</td>\n",
       "      <td>395.850006</td>\n",
       "      <td>393.630005</td>\n",
       "      <td>3170600</td>\n",
       "      <td>393.630005</td>\n",
       "      <td>393.016673</td>\n",
       "      <td>-0.34</td>\n",
       "      <td>-0.57</td>\n",
       "      <td>0.26</td>\n",
       "      <td>0.0</td>\n",
       "    </tr>\n",
       "    <tr>\n",
       "      <td>3</td>\n",
       "      <td>2014-01-07</td>\n",
       "      <td>398.470001</td>\n",
       "      <td>394.290009</td>\n",
       "      <td>395.040009</td>\n",
       "      <td>398.029999</td>\n",
       "      <td>1916000</td>\n",
       "      <td>398.029999</td>\n",
       "      <td>396.930003</td>\n",
       "      <td>0.68</td>\n",
       "      <td>0.40</td>\n",
       "      <td>-0.41</td>\n",
       "      <td>0.0</td>\n",
       "    </tr>\n",
       "    <tr>\n",
       "      <td>4</td>\n",
       "      <td>2014-01-08</td>\n",
       "      <td>403.000000</td>\n",
       "      <td>396.040009</td>\n",
       "      <td>398.470001</td>\n",
       "      <td>401.920013</td>\n",
       "      <td>2316500</td>\n",
       "      <td>401.920013</td>\n",
       "      <td>400.320007</td>\n",
       "      <td>0.04</td>\n",
       "      <td>0.01</td>\n",
       "      <td>-0.11</td>\n",
       "      <td>0.0</td>\n",
       "    </tr>\n",
       "  </tbody>\n",
       "</table>\n",
       "</div>"
      ],
      "text/plain": [
       "        Date        High         Low        Open       Close   Volume  \\\n",
       "0 2014-01-02  399.359985  394.019989  398.799988  397.970001  2137800   \n",
       "1 2014-01-03  402.709991  396.220001  398.290009  396.440002  2210200   \n",
       "2 2014-01-06  397.000000  388.420013  395.850006  393.630005  3170600   \n",
       "3 2014-01-07  398.470001  394.290009  395.040009  398.029999  1916000   \n",
       "4 2014-01-08  403.000000  396.040009  398.470001  401.920013  2316500   \n",
       "\n",
       "    Adj Close  Typical_Price  Mkt-RF   SMB   HML   RF  \n",
       "0  397.970001     397.116659   -0.88 -0.27  0.12  0.0  \n",
       "1  396.440002     398.456665    0.03  0.36  0.05  0.0  \n",
       "2  393.630005     393.016673   -0.34 -0.57  0.26  0.0  \n",
       "3  398.029999     396.930003    0.68  0.40 -0.41  0.0  \n",
       "4  401.920013     400.320007    0.04  0.01 -0.11  0.0  "
      ]
     },
     "execution_count": 21,
     "metadata": {},
     "output_type": "execute_result"
    }
   ],
   "source": [
    "amzn_AF.head()"
   ]
  },
  {
   "cell_type": "code",
   "execution_count": 22,
   "metadata": {},
   "outputs": [
    {
     "data": {
      "text/html": [
       "<div>\n",
       "<style scoped>\n",
       "    .dataframe tbody tr th:only-of-type {\n",
       "        vertical-align: middle;\n",
       "    }\n",
       "\n",
       "    .dataframe tbody tr th {\n",
       "        vertical-align: top;\n",
       "    }\n",
       "\n",
       "    .dataframe thead th {\n",
       "        text-align: right;\n",
       "    }\n",
       "</style>\n",
       "<table border=\"1\" class=\"dataframe\">\n",
       "  <thead>\n",
       "    <tr style=\"text-align: right;\">\n",
       "      <th></th>\n",
       "      <th>Date</th>\n",
       "      <th>High</th>\n",
       "      <th>Low</th>\n",
       "      <th>Open</th>\n",
       "      <th>Close</th>\n",
       "      <th>Volume</th>\n",
       "      <th>Adj Close</th>\n",
       "      <th>Typical_Price</th>\n",
       "      <th>Mkt-RF</th>\n",
       "      <th>SMB</th>\n",
       "      <th>HML</th>\n",
       "      <th>RF</th>\n",
       "      <th>ADS_Index_010920</th>\n",
       "    </tr>\n",
       "  </thead>\n",
       "  <tbody>\n",
       "    <tr>\n",
       "      <td>0</td>\n",
       "      <td>2014-01-02</td>\n",
       "      <td>399.359985</td>\n",
       "      <td>394.019989</td>\n",
       "      <td>398.799988</td>\n",
       "      <td>397.970001</td>\n",
       "      <td>2137800</td>\n",
       "      <td>397.970001</td>\n",
       "      <td>397.116659</td>\n",
       "      <td>-0.88</td>\n",
       "      <td>-0.27</td>\n",
       "      <td>0.12</td>\n",
       "      <td>0.0</td>\n",
       "      <td>-0.365855</td>\n",
       "    </tr>\n",
       "    <tr>\n",
       "      <td>1</td>\n",
       "      <td>2014-01-03</td>\n",
       "      <td>402.709991</td>\n",
       "      <td>396.220001</td>\n",
       "      <td>398.290009</td>\n",
       "      <td>396.440002</td>\n",
       "      <td>2210200</td>\n",
       "      <td>396.440002</td>\n",
       "      <td>398.456665</td>\n",
       "      <td>0.03</td>\n",
       "      <td>0.36</td>\n",
       "      <td>0.05</td>\n",
       "      <td>0.0</td>\n",
       "      <td>-0.378983</td>\n",
       "    </tr>\n",
       "    <tr>\n",
       "      <td>2</td>\n",
       "      <td>2014-01-06</td>\n",
       "      <td>397.000000</td>\n",
       "      <td>388.420013</td>\n",
       "      <td>395.850006</td>\n",
       "      <td>393.630005</td>\n",
       "      <td>3170600</td>\n",
       "      <td>393.630005</td>\n",
       "      <td>393.016673</td>\n",
       "      <td>-0.34</td>\n",
       "      <td>-0.57</td>\n",
       "      <td>0.26</td>\n",
       "      <td>0.0</td>\n",
       "      <td>-0.412198</td>\n",
       "    </tr>\n",
       "    <tr>\n",
       "      <td>3</td>\n",
       "      <td>2014-01-07</td>\n",
       "      <td>398.470001</td>\n",
       "      <td>394.290009</td>\n",
       "      <td>395.040009</td>\n",
       "      <td>398.029999</td>\n",
       "      <td>1916000</td>\n",
       "      <td>398.029999</td>\n",
       "      <td>396.930003</td>\n",
       "      <td>0.68</td>\n",
       "      <td>0.40</td>\n",
       "      <td>-0.41</td>\n",
       "      <td>0.0</td>\n",
       "      <td>-0.420924</td>\n",
       "    </tr>\n",
       "    <tr>\n",
       "      <td>4</td>\n",
       "      <td>2014-01-08</td>\n",
       "      <td>403.000000</td>\n",
       "      <td>396.040009</td>\n",
       "      <td>398.470001</td>\n",
       "      <td>401.920013</td>\n",
       "      <td>2316500</td>\n",
       "      <td>401.920013</td>\n",
       "      <td>400.320007</td>\n",
       "      <td>0.04</td>\n",
       "      <td>0.01</td>\n",
       "      <td>-0.11</td>\n",
       "      <td>0.0</td>\n",
       "      <td>-0.428513</td>\n",
       "    </tr>\n",
       "  </tbody>\n",
       "</table>\n",
       "</div>"
      ],
      "text/plain": [
       "        Date        High         Low        Open       Close   Volume  \\\n",
       "0 2014-01-02  399.359985  394.019989  398.799988  397.970001  2137800   \n",
       "1 2014-01-03  402.709991  396.220001  398.290009  396.440002  2210200   \n",
       "2 2014-01-06  397.000000  388.420013  395.850006  393.630005  3170600   \n",
       "3 2014-01-07  398.470001  394.290009  395.040009  398.029999  1916000   \n",
       "4 2014-01-08  403.000000  396.040009  398.470001  401.920013  2316500   \n",
       "\n",
       "    Adj Close  Typical_Price  Mkt-RF   SMB   HML   RF  ADS_Index_010920  \n",
       "0  397.970001     397.116659   -0.88 -0.27  0.12  0.0         -0.365855  \n",
       "1  396.440002     398.456665    0.03  0.36  0.05  0.0         -0.378983  \n",
       "2  393.630005     393.016673   -0.34 -0.57  0.26  0.0         -0.412198  \n",
       "3  398.029999     396.930003    0.68  0.40 -0.41  0.0         -0.420924  \n",
       "4  401.920013     400.320007    0.04  0.01 -0.11  0.0         -0.428513  "
      ]
     },
     "execution_count": 22,
     "metadata": {},
     "output_type": "execute_result"
    }
   ],
   "source": [
    "amzn_AF = pd.merge(amzn_AF, ADS, on='Date')\n",
    "amzn_AF.head()"
   ]
  },
  {
   "cell_type": "code",
   "execution_count": 23,
   "metadata": {},
   "outputs": [],
   "source": [
    "amzn_AF.to_csv('../data/merged.csv')"
   ]
  },
  {
   "cell_type": "markdown",
   "metadata": {},
   "source": [
    "### Resampling daily data to MONTHLY aggregated data"
   ]
  },
  {
   "cell_type": "code",
   "execution_count": 24,
   "metadata": {},
   "outputs": [],
   "source": [
    "amzn_AF.set_index('Date', inplace=True)"
   ]
  },
  {
   "cell_type": "code",
   "execution_count": 25,
   "metadata": {},
   "outputs": [
    {
     "data": {
      "text/html": [
       "<div>\n",
       "<style scoped>\n",
       "    .dataframe tbody tr th:only-of-type {\n",
       "        vertical-align: middle;\n",
       "    }\n",
       "\n",
       "    .dataframe tbody tr th {\n",
       "        vertical-align: top;\n",
       "    }\n",
       "\n",
       "    .dataframe thead th {\n",
       "        text-align: right;\n",
       "    }\n",
       "</style>\n",
       "<table border=\"1\" class=\"dataframe\">\n",
       "  <thead>\n",
       "    <tr style=\"text-align: right;\">\n",
       "      <th></th>\n",
       "      <th>High</th>\n",
       "      <th>Low</th>\n",
       "      <th>Open</th>\n",
       "      <th>Close</th>\n",
       "      <th>Volume</th>\n",
       "      <th>Adj Close</th>\n",
       "      <th>Typical_Price</th>\n",
       "      <th>Mkt-RF</th>\n",
       "      <th>SMB</th>\n",
       "      <th>HML</th>\n",
       "      <th>RF</th>\n",
       "      <th>ADS_Index_010920</th>\n",
       "    </tr>\n",
       "    <tr>\n",
       "      <th>Date</th>\n",
       "      <th></th>\n",
       "      <th></th>\n",
       "      <th></th>\n",
       "      <th></th>\n",
       "      <th></th>\n",
       "      <th></th>\n",
       "      <th></th>\n",
       "      <th></th>\n",
       "      <th></th>\n",
       "      <th></th>\n",
       "      <th></th>\n",
       "      <th></th>\n",
       "    </tr>\n",
       "  </thead>\n",
       "  <tbody>\n",
       "    <tr>\n",
       "      <td>2014-01-31</td>\n",
       "      <td>399.871906</td>\n",
       "      <td>390.549526</td>\n",
       "      <td>395.972858</td>\n",
       "      <td>394.863335</td>\n",
       "      <td>3.857710e+06</td>\n",
       "      <td>394.863335</td>\n",
       "      <td>395.094922</td>\n",
       "      <td>-0.157619</td>\n",
       "      <td>0.043810</td>\n",
       "      <td>-0.102381</td>\n",
       "      <td>0.000</td>\n",
       "      <td>-0.380487</td>\n",
       "    </tr>\n",
       "    <tr>\n",
       "      <td>2014-02-28</td>\n",
       "      <td>358.100000</td>\n",
       "      <td>349.200528</td>\n",
       "      <td>354.363158</td>\n",
       "      <td>354.336843</td>\n",
       "      <td>4.368895e+06</td>\n",
       "      <td>354.336843</td>\n",
       "      <td>353.879124</td>\n",
       "      <td>0.242105</td>\n",
       "      <td>0.019474</td>\n",
       "      <td>-0.022632</td>\n",
       "      <td>0.000</td>\n",
       "      <td>0.122650</td>\n",
       "    </tr>\n",
       "    <tr>\n",
       "      <td>2014-03-31</td>\n",
       "      <td>367.909999</td>\n",
       "      <td>359.169997</td>\n",
       "      <td>365.009520</td>\n",
       "      <td>362.630477</td>\n",
       "      <td>3.583500e+06</td>\n",
       "      <td>362.630477</td>\n",
       "      <td>363.236825</td>\n",
       "      <td>0.022381</td>\n",
       "      <td>-0.087619</td>\n",
       "      <td>0.242381</td>\n",
       "      <td>0.000</td>\n",
       "      <td>0.436126</td>\n",
       "    </tr>\n",
       "    <tr>\n",
       "      <td>2014-04-30</td>\n",
       "      <td>326.722380</td>\n",
       "      <td>315.743811</td>\n",
       "      <td>323.132384</td>\n",
       "      <td>321.641426</td>\n",
       "      <td>6.584700e+06</td>\n",
       "      <td>321.641426</td>\n",
       "      <td>321.369206</td>\n",
       "      <td>-0.007619</td>\n",
       "      <td>-0.200952</td>\n",
       "      <td>0.055238</td>\n",
       "      <td>0.000</td>\n",
       "      <td>0.308517</td>\n",
       "    </tr>\n",
       "    <tr>\n",
       "      <td>2014-05-31</td>\n",
       "      <td>306.176669</td>\n",
       "      <td>298.795240</td>\n",
       "      <td>302.474285</td>\n",
       "      <td>302.953811</td>\n",
       "      <td>3.741867e+06</td>\n",
       "      <td>302.953811</td>\n",
       "      <td>302.641907</td>\n",
       "      <td>0.099048</td>\n",
       "      <td>-0.083810</td>\n",
       "      <td>-0.014286</td>\n",
       "      <td>0.000</td>\n",
       "      <td>0.242648</td>\n",
       "    </tr>\n",
       "    <tr>\n",
       "      <td>...</td>\n",
       "      <td>...</td>\n",
       "      <td>...</td>\n",
       "      <td>...</td>\n",
       "      <td>...</td>\n",
       "      <td>...</td>\n",
       "      <td>...</td>\n",
       "      <td>...</td>\n",
       "      <td>...</td>\n",
       "      <td>...</td>\n",
       "      <td>...</td>\n",
       "      <td>...</td>\n",
       "      <td>...</td>\n",
       "    </tr>\n",
       "    <tr>\n",
       "      <td>2019-08-31</td>\n",
       "      <td>1810.570007</td>\n",
       "      <td>1778.234092</td>\n",
       "      <td>1799.372265</td>\n",
       "      <td>1793.602722</td>\n",
       "      <td>3.625964e+06</td>\n",
       "      <td>1793.602722</td>\n",
       "      <td>1794.135607</td>\n",
       "      <td>-0.107273</td>\n",
       "      <td>-0.112727</td>\n",
       "      <td>-0.235455</td>\n",
       "      <td>0.007</td>\n",
       "      <td>0.035436</td>\n",
       "    </tr>\n",
       "    <tr>\n",
       "      <td>2019-09-30</td>\n",
       "      <td>1812.319501</td>\n",
       "      <td>1784.685992</td>\n",
       "      <td>1801.715997</td>\n",
       "      <td>1799.120996</td>\n",
       "      <td>3.058645e+06</td>\n",
       "      <td>1799.120996</td>\n",
       "      <td>1798.708830</td>\n",
       "      <td>0.072500</td>\n",
       "      <td>-0.041000</td>\n",
       "      <td>0.332000</td>\n",
       "      <td>0.009</td>\n",
       "      <td>-0.364348</td>\n",
       "    </tr>\n",
       "    <tr>\n",
       "      <td>2019-10-31</td>\n",
       "      <td>1763.666944</td>\n",
       "      <td>1736.604784</td>\n",
       "      <td>1749.137839</td>\n",
       "      <td>1752.331750</td>\n",
       "      <td>3.059152e+06</td>\n",
       "      <td>1752.331750</td>\n",
       "      <td>1750.867826</td>\n",
       "      <td>0.092174</td>\n",
       "      <td>0.011304</td>\n",
       "      <td>-0.086957</td>\n",
       "      <td>0.007</td>\n",
       "      <td>-0.556550</td>\n",
       "    </tr>\n",
       "    <tr>\n",
       "      <td>2019-11-30</td>\n",
       "      <td>1784.218506</td>\n",
       "      <td>1764.300500</td>\n",
       "      <td>1775.338019</td>\n",
       "      <td>1774.293994</td>\n",
       "      <td>2.603810e+06</td>\n",
       "      <td>1774.293994</td>\n",
       "      <td>1774.271000</td>\n",
       "      <td>0.191000</td>\n",
       "      <td>0.041500</td>\n",
       "      <td>-0.090500</td>\n",
       "      <td>0.006</td>\n",
       "      <td>0.162244</td>\n",
       "    </tr>\n",
       "    <tr>\n",
       "      <td>2019-12-31</td>\n",
       "      <td>1797.109997</td>\n",
       "      <td>1773.846662</td>\n",
       "      <td>1786.190011</td>\n",
       "      <td>1785.772845</td>\n",
       "      <td>3.245219e+06</td>\n",
       "      <td>1785.772845</td>\n",
       "      <td>1785.576501</td>\n",
       "      <td>0.131905</td>\n",
       "      <td>0.031429</td>\n",
       "      <td>0.086667</td>\n",
       "      <td>0.007</td>\n",
       "      <td>0.353785</td>\n",
       "    </tr>\n",
       "  </tbody>\n",
       "</table>\n",
       "<p>72 rows × 12 columns</p>\n",
       "</div>"
      ],
      "text/plain": [
       "                   High          Low         Open        Close        Volume  \\\n",
       "Date                                                                           \n",
       "2014-01-31   399.871906   390.549526   395.972858   394.863335  3.857710e+06   \n",
       "2014-02-28   358.100000   349.200528   354.363158   354.336843  4.368895e+06   \n",
       "2014-03-31   367.909999   359.169997   365.009520   362.630477  3.583500e+06   \n",
       "2014-04-30   326.722380   315.743811   323.132384   321.641426  6.584700e+06   \n",
       "2014-05-31   306.176669   298.795240   302.474285   302.953811  3.741867e+06   \n",
       "...                 ...          ...          ...          ...           ...   \n",
       "2019-08-31  1810.570007  1778.234092  1799.372265  1793.602722  3.625964e+06   \n",
       "2019-09-30  1812.319501  1784.685992  1801.715997  1799.120996  3.058645e+06   \n",
       "2019-10-31  1763.666944  1736.604784  1749.137839  1752.331750  3.059152e+06   \n",
       "2019-11-30  1784.218506  1764.300500  1775.338019  1774.293994  2.603810e+06   \n",
       "2019-12-31  1797.109997  1773.846662  1786.190011  1785.772845  3.245219e+06   \n",
       "\n",
       "              Adj Close  Typical_Price    Mkt-RF       SMB       HML     RF  \\\n",
       "Date                                                                          \n",
       "2014-01-31   394.863335     395.094922 -0.157619  0.043810 -0.102381  0.000   \n",
       "2014-02-28   354.336843     353.879124  0.242105  0.019474 -0.022632  0.000   \n",
       "2014-03-31   362.630477     363.236825  0.022381 -0.087619  0.242381  0.000   \n",
       "2014-04-30   321.641426     321.369206 -0.007619 -0.200952  0.055238  0.000   \n",
       "2014-05-31   302.953811     302.641907  0.099048 -0.083810 -0.014286  0.000   \n",
       "...                 ...            ...       ...       ...       ...    ...   \n",
       "2019-08-31  1793.602722    1794.135607 -0.107273 -0.112727 -0.235455  0.007   \n",
       "2019-09-30  1799.120996    1798.708830  0.072500 -0.041000  0.332000  0.009   \n",
       "2019-10-31  1752.331750    1750.867826  0.092174  0.011304 -0.086957  0.007   \n",
       "2019-11-30  1774.293994    1774.271000  0.191000  0.041500 -0.090500  0.006   \n",
       "2019-12-31  1785.772845    1785.576501  0.131905  0.031429  0.086667  0.007   \n",
       "\n",
       "            ADS_Index_010920  \n",
       "Date                          \n",
       "2014-01-31         -0.380487  \n",
       "2014-02-28          0.122650  \n",
       "2014-03-31          0.436126  \n",
       "2014-04-30          0.308517  \n",
       "2014-05-31          0.242648  \n",
       "...                      ...  \n",
       "2019-08-31          0.035436  \n",
       "2019-09-30         -0.364348  \n",
       "2019-10-31         -0.556550  \n",
       "2019-11-30          0.162244  \n",
       "2019-12-31          0.353785  \n",
       "\n",
       "[72 rows x 12 columns]"
      ]
     },
     "execution_count": 25,
     "metadata": {},
     "output_type": "execute_result"
    }
   ],
   "source": [
    "month_agg = amzn_AF.resample('M').mean()\n",
    "month_agg"
   ]
  },
  {
   "cell_type": "code",
   "execution_count": 26,
   "metadata": {},
   "outputs": [
    {
     "data": {
      "text/html": [
       "<div>\n",
       "<style scoped>\n",
       "    .dataframe tbody tr th:only-of-type {\n",
       "        vertical-align: middle;\n",
       "    }\n",
       "\n",
       "    .dataframe tbody tr th {\n",
       "        vertical-align: top;\n",
       "    }\n",
       "\n",
       "    .dataframe thead th {\n",
       "        text-align: right;\n",
       "    }\n",
       "</style>\n",
       "<table border=\"1\" class=\"dataframe\">\n",
       "  <thead>\n",
       "    <tr style=\"text-align: right;\">\n",
       "      <th></th>\n",
       "      <th>High</th>\n",
       "      <th>Low</th>\n",
       "      <th>Open</th>\n",
       "      <th>Close</th>\n",
       "      <th>Volume</th>\n",
       "      <th>Adj Close</th>\n",
       "      <th>Typical_Price</th>\n",
       "      <th>Mkt-RF</th>\n",
       "      <th>SMB</th>\n",
       "      <th>HML</th>\n",
       "      <th>RF</th>\n",
       "      <th>ADS_Index_010920</th>\n",
       "    </tr>\n",
       "    <tr>\n",
       "      <th>Date</th>\n",
       "      <th></th>\n",
       "      <th></th>\n",
       "      <th></th>\n",
       "      <th></th>\n",
       "      <th></th>\n",
       "      <th></th>\n",
       "      <th></th>\n",
       "      <th></th>\n",
       "      <th></th>\n",
       "      <th></th>\n",
       "      <th></th>\n",
       "      <th></th>\n",
       "    </tr>\n",
       "  </thead>\n",
       "  <tbody>\n",
       "    <tr>\n",
       "      <td>2014-01-31</td>\n",
       "      <td>399.871906</td>\n",
       "      <td>390.549526</td>\n",
       "      <td>395.972858</td>\n",
       "      <td>394.863335</td>\n",
       "      <td>3.857710e+06</td>\n",
       "      <td>394.863335</td>\n",
       "      <td>395.094922</td>\n",
       "      <td>-0.157619</td>\n",
       "      <td>0.043810</td>\n",
       "      <td>-0.102381</td>\n",
       "      <td>0.0</td>\n",
       "      <td>-0.380487</td>\n",
       "    </tr>\n",
       "    <tr>\n",
       "      <td>2014-02-28</td>\n",
       "      <td>358.100000</td>\n",
       "      <td>349.200528</td>\n",
       "      <td>354.363158</td>\n",
       "      <td>354.336843</td>\n",
       "      <td>4.368895e+06</td>\n",
       "      <td>354.336843</td>\n",
       "      <td>353.879124</td>\n",
       "      <td>0.242105</td>\n",
       "      <td>0.019474</td>\n",
       "      <td>-0.022632</td>\n",
       "      <td>0.0</td>\n",
       "      <td>0.122650</td>\n",
       "    </tr>\n",
       "    <tr>\n",
       "      <td>2014-03-31</td>\n",
       "      <td>367.909999</td>\n",
       "      <td>359.169997</td>\n",
       "      <td>365.009520</td>\n",
       "      <td>362.630477</td>\n",
       "      <td>3.583500e+06</td>\n",
       "      <td>362.630477</td>\n",
       "      <td>363.236825</td>\n",
       "      <td>0.022381</td>\n",
       "      <td>-0.087619</td>\n",
       "      <td>0.242381</td>\n",
       "      <td>0.0</td>\n",
       "      <td>0.436126</td>\n",
       "    </tr>\n",
       "    <tr>\n",
       "      <td>2014-04-30</td>\n",
       "      <td>326.722380</td>\n",
       "      <td>315.743811</td>\n",
       "      <td>323.132384</td>\n",
       "      <td>321.641426</td>\n",
       "      <td>6.584700e+06</td>\n",
       "      <td>321.641426</td>\n",
       "      <td>321.369206</td>\n",
       "      <td>-0.007619</td>\n",
       "      <td>-0.200952</td>\n",
       "      <td>0.055238</td>\n",
       "      <td>0.0</td>\n",
       "      <td>0.308517</td>\n",
       "    </tr>\n",
       "    <tr>\n",
       "      <td>2014-05-31</td>\n",
       "      <td>306.176669</td>\n",
       "      <td>298.795240</td>\n",
       "      <td>302.474285</td>\n",
       "      <td>302.953811</td>\n",
       "      <td>3.741867e+06</td>\n",
       "      <td>302.953811</td>\n",
       "      <td>302.641907</td>\n",
       "      <td>0.099048</td>\n",
       "      <td>-0.083810</td>\n",
       "      <td>-0.014286</td>\n",
       "      <td>0.0</td>\n",
       "      <td>0.242648</td>\n",
       "    </tr>\n",
       "  </tbody>\n",
       "</table>\n",
       "</div>"
      ],
      "text/plain": [
       "                  High         Low        Open       Close        Volume  \\\n",
       "Date                                                                       \n",
       "2014-01-31  399.871906  390.549526  395.972858  394.863335  3.857710e+06   \n",
       "2014-02-28  358.100000  349.200528  354.363158  354.336843  4.368895e+06   \n",
       "2014-03-31  367.909999  359.169997  365.009520  362.630477  3.583500e+06   \n",
       "2014-04-30  326.722380  315.743811  323.132384  321.641426  6.584700e+06   \n",
       "2014-05-31  306.176669  298.795240  302.474285  302.953811  3.741867e+06   \n",
       "\n",
       "             Adj Close  Typical_Price    Mkt-RF       SMB       HML   RF  \\\n",
       "Date                                                                       \n",
       "2014-01-31  394.863335     395.094922 -0.157619  0.043810 -0.102381  0.0   \n",
       "2014-02-28  354.336843     353.879124  0.242105  0.019474 -0.022632  0.0   \n",
       "2014-03-31  362.630477     363.236825  0.022381 -0.087619  0.242381  0.0   \n",
       "2014-04-30  321.641426     321.369206 -0.007619 -0.200952  0.055238  0.0   \n",
       "2014-05-31  302.953811     302.641907  0.099048 -0.083810 -0.014286  0.0   \n",
       "\n",
       "            ADS_Index_010920  \n",
       "Date                          \n",
       "2014-01-31         -0.380487  \n",
       "2014-02-28          0.122650  \n",
       "2014-03-31          0.436126  \n",
       "2014-04-30          0.308517  \n",
       "2014-05-31          0.242648  "
      ]
     },
     "execution_count": 26,
     "metadata": {},
     "output_type": "execute_result"
    }
   ],
   "source": [
    "month_agg.head()"
   ]
  },
  {
   "cell_type": "markdown",
   "metadata": {},
   "source": [
    "### Calculate log returns for TypicalPrice Month over Month"
   ]
  },
  {
   "cell_type": "code",
   "execution_count": 27,
   "metadata": {},
   "outputs": [
    {
     "data": {
      "text/html": [
       "<div>\n",
       "<style scoped>\n",
       "    .dataframe tbody tr th:only-of-type {\n",
       "        vertical-align: middle;\n",
       "    }\n",
       "\n",
       "    .dataframe tbody tr th {\n",
       "        vertical-align: top;\n",
       "    }\n",
       "\n",
       "    .dataframe thead th {\n",
       "        text-align: right;\n",
       "    }\n",
       "</style>\n",
       "<table border=\"1\" class=\"dataframe\">\n",
       "  <thead>\n",
       "    <tr style=\"text-align: right;\">\n",
       "      <th></th>\n",
       "      <th>High</th>\n",
       "      <th>Low</th>\n",
       "      <th>Open</th>\n",
       "      <th>Close</th>\n",
       "      <th>Volume</th>\n",
       "      <th>Adj Close</th>\n",
       "      <th>Typical_Price</th>\n",
       "      <th>Mkt-RF</th>\n",
       "      <th>SMB</th>\n",
       "      <th>HML</th>\n",
       "      <th>RF</th>\n",
       "      <th>ADS_Index_010920</th>\n",
       "      <th>Typical_Price_MOM</th>\n",
       "      <th>Volume_MOM</th>\n",
       "    </tr>\n",
       "    <tr>\n",
       "      <th>Date</th>\n",
       "      <th></th>\n",
       "      <th></th>\n",
       "      <th></th>\n",
       "      <th></th>\n",
       "      <th></th>\n",
       "      <th></th>\n",
       "      <th></th>\n",
       "      <th></th>\n",
       "      <th></th>\n",
       "      <th></th>\n",
       "      <th></th>\n",
       "      <th></th>\n",
       "      <th></th>\n",
       "      <th></th>\n",
       "    </tr>\n",
       "  </thead>\n",
       "  <tbody>\n",
       "    <tr>\n",
       "      <td>2014-01-31</td>\n",
       "      <td>399.871906</td>\n",
       "      <td>390.549526</td>\n",
       "      <td>395.972858</td>\n",
       "      <td>394.863335</td>\n",
       "      <td>3.857710e+06</td>\n",
       "      <td>394.863335</td>\n",
       "      <td>395.094922</td>\n",
       "      <td>-0.157619</td>\n",
       "      <td>0.043810</td>\n",
       "      <td>-0.102381</td>\n",
       "      <td>0.000</td>\n",
       "      <td>-0.380487</td>\n",
       "      <td>NaN</td>\n",
       "      <td>NaN</td>\n",
       "    </tr>\n",
       "    <tr>\n",
       "      <td>2014-02-28</td>\n",
       "      <td>358.100000</td>\n",
       "      <td>349.200528</td>\n",
       "      <td>354.363158</td>\n",
       "      <td>354.336843</td>\n",
       "      <td>4.368895e+06</td>\n",
       "      <td>354.336843</td>\n",
       "      <td>353.879124</td>\n",
       "      <td>0.242105</td>\n",
       "      <td>0.019474</td>\n",
       "      <td>-0.022632</td>\n",
       "      <td>0.000</td>\n",
       "      <td>0.122650</td>\n",
       "      <td>-11.017065</td>\n",
       "      <td>12.443644</td>\n",
       "    </tr>\n",
       "    <tr>\n",
       "      <td>2014-03-31</td>\n",
       "      <td>367.909999</td>\n",
       "      <td>359.169997</td>\n",
       "      <td>365.009520</td>\n",
       "      <td>362.630477</td>\n",
       "      <td>3.583500e+06</td>\n",
       "      <td>362.630477</td>\n",
       "      <td>363.236825</td>\n",
       "      <td>0.022381</td>\n",
       "      <td>-0.087619</td>\n",
       "      <td>0.242381</td>\n",
       "      <td>0.000</td>\n",
       "      <td>0.436126</td>\n",
       "      <td>2.609963</td>\n",
       "      <td>-19.817008</td>\n",
       "    </tr>\n",
       "    <tr>\n",
       "      <td>2014-04-30</td>\n",
       "      <td>326.722380</td>\n",
       "      <td>315.743811</td>\n",
       "      <td>323.132384</td>\n",
       "      <td>321.641426</td>\n",
       "      <td>6.584700e+06</td>\n",
       "      <td>321.641426</td>\n",
       "      <td>321.369206</td>\n",
       "      <td>-0.007619</td>\n",
       "      <td>-0.200952</td>\n",
       "      <td>0.055238</td>\n",
       "      <td>0.000</td>\n",
       "      <td>0.308517</td>\n",
       "      <td>-12.246440</td>\n",
       "      <td>60.840880</td>\n",
       "    </tr>\n",
       "    <tr>\n",
       "      <td>2014-05-31</td>\n",
       "      <td>306.176669</td>\n",
       "      <td>298.795240</td>\n",
       "      <td>302.474285</td>\n",
       "      <td>302.953811</td>\n",
       "      <td>3.741867e+06</td>\n",
       "      <td>302.953811</td>\n",
       "      <td>302.641907</td>\n",
       "      <td>0.099048</td>\n",
       "      <td>-0.083810</td>\n",
       "      <td>-0.014286</td>\n",
       "      <td>0.000</td>\n",
       "      <td>0.242648</td>\n",
       "      <td>-6.004035</td>\n",
       "      <td>-56.516418</td>\n",
       "    </tr>\n",
       "    <tr>\n",
       "      <td>...</td>\n",
       "      <td>...</td>\n",
       "      <td>...</td>\n",
       "      <td>...</td>\n",
       "      <td>...</td>\n",
       "      <td>...</td>\n",
       "      <td>...</td>\n",
       "      <td>...</td>\n",
       "      <td>...</td>\n",
       "      <td>...</td>\n",
       "      <td>...</td>\n",
       "      <td>...</td>\n",
       "      <td>...</td>\n",
       "      <td>...</td>\n",
       "      <td>...</td>\n",
       "    </tr>\n",
       "    <tr>\n",
       "      <td>2019-08-31</td>\n",
       "      <td>1810.570007</td>\n",
       "      <td>1778.234092</td>\n",
       "      <td>1799.372265</td>\n",
       "      <td>1793.602722</td>\n",
       "      <td>3.625964e+06</td>\n",
       "      <td>1793.602722</td>\n",
       "      <td>1794.135607</td>\n",
       "      <td>-0.107273</td>\n",
       "      <td>-0.112727</td>\n",
       "      <td>-0.235455</td>\n",
       "      <td>0.007</td>\n",
       "      <td>0.035436</td>\n",
       "      <td>-9.044258</td>\n",
       "      <td>8.627591</td>\n",
       "    </tr>\n",
       "    <tr>\n",
       "      <td>2019-09-30</td>\n",
       "      <td>1812.319501</td>\n",
       "      <td>1784.685992</td>\n",
       "      <td>1801.715997</td>\n",
       "      <td>1799.120996</td>\n",
       "      <td>3.058645e+06</td>\n",
       "      <td>1799.120996</td>\n",
       "      <td>1798.708830</td>\n",
       "      <td>0.072500</td>\n",
       "      <td>-0.041000</td>\n",
       "      <td>0.332000</td>\n",
       "      <td>0.009</td>\n",
       "      <td>-0.364348</td>\n",
       "      <td>0.254574</td>\n",
       "      <td>-17.014808</td>\n",
       "    </tr>\n",
       "    <tr>\n",
       "      <td>2019-10-31</td>\n",
       "      <td>1763.666944</td>\n",
       "      <td>1736.604784</td>\n",
       "      <td>1749.137839</td>\n",
       "      <td>1752.331750</td>\n",
       "      <td>3.059152e+06</td>\n",
       "      <td>1752.331750</td>\n",
       "      <td>1750.867826</td>\n",
       "      <td>0.092174</td>\n",
       "      <td>0.011304</td>\n",
       "      <td>-0.086957</td>\n",
       "      <td>0.007</td>\n",
       "      <td>-0.556550</td>\n",
       "      <td>-2.695753</td>\n",
       "      <td>0.016580</td>\n",
       "    </tr>\n",
       "    <tr>\n",
       "      <td>2019-11-30</td>\n",
       "      <td>1784.218506</td>\n",
       "      <td>1764.300500</td>\n",
       "      <td>1775.338019</td>\n",
       "      <td>1774.293994</td>\n",
       "      <td>2.603810e+06</td>\n",
       "      <td>1774.293994</td>\n",
       "      <td>1774.271000</td>\n",
       "      <td>0.191000</td>\n",
       "      <td>0.041500</td>\n",
       "      <td>-0.090500</td>\n",
       "      <td>0.006</td>\n",
       "      <td>0.162244</td>\n",
       "      <td>1.327807</td>\n",
       "      <td>-16.116205</td>\n",
       "    </tr>\n",
       "    <tr>\n",
       "      <td>2019-12-31</td>\n",
       "      <td>1797.109997</td>\n",
       "      <td>1773.846662</td>\n",
       "      <td>1786.190011</td>\n",
       "      <td>1785.772845</td>\n",
       "      <td>3.245219e+06</td>\n",
       "      <td>1785.772845</td>\n",
       "      <td>1785.576501</td>\n",
       "      <td>0.131905</td>\n",
       "      <td>0.031429</td>\n",
       "      <td>0.086667</td>\n",
       "      <td>0.007</td>\n",
       "      <td>0.353785</td>\n",
       "      <td>0.635170</td>\n",
       "      <td>22.020709</td>\n",
       "    </tr>\n",
       "  </tbody>\n",
       "</table>\n",
       "<p>72 rows × 14 columns</p>\n",
       "</div>"
      ],
      "text/plain": [
       "                   High          Low         Open        Close        Volume  \\\n",
       "Date                                                                           \n",
       "2014-01-31   399.871906   390.549526   395.972858   394.863335  3.857710e+06   \n",
       "2014-02-28   358.100000   349.200528   354.363158   354.336843  4.368895e+06   \n",
       "2014-03-31   367.909999   359.169997   365.009520   362.630477  3.583500e+06   \n",
       "2014-04-30   326.722380   315.743811   323.132384   321.641426  6.584700e+06   \n",
       "2014-05-31   306.176669   298.795240   302.474285   302.953811  3.741867e+06   \n",
       "...                 ...          ...          ...          ...           ...   \n",
       "2019-08-31  1810.570007  1778.234092  1799.372265  1793.602722  3.625964e+06   \n",
       "2019-09-30  1812.319501  1784.685992  1801.715997  1799.120996  3.058645e+06   \n",
       "2019-10-31  1763.666944  1736.604784  1749.137839  1752.331750  3.059152e+06   \n",
       "2019-11-30  1784.218506  1764.300500  1775.338019  1774.293994  2.603810e+06   \n",
       "2019-12-31  1797.109997  1773.846662  1786.190011  1785.772845  3.245219e+06   \n",
       "\n",
       "              Adj Close  Typical_Price    Mkt-RF       SMB       HML     RF  \\\n",
       "Date                                                                          \n",
       "2014-01-31   394.863335     395.094922 -0.157619  0.043810 -0.102381  0.000   \n",
       "2014-02-28   354.336843     353.879124  0.242105  0.019474 -0.022632  0.000   \n",
       "2014-03-31   362.630477     363.236825  0.022381 -0.087619  0.242381  0.000   \n",
       "2014-04-30   321.641426     321.369206 -0.007619 -0.200952  0.055238  0.000   \n",
       "2014-05-31   302.953811     302.641907  0.099048 -0.083810 -0.014286  0.000   \n",
       "...                 ...            ...       ...       ...       ...    ...   \n",
       "2019-08-31  1793.602722    1794.135607 -0.107273 -0.112727 -0.235455  0.007   \n",
       "2019-09-30  1799.120996    1798.708830  0.072500 -0.041000  0.332000  0.009   \n",
       "2019-10-31  1752.331750    1750.867826  0.092174  0.011304 -0.086957  0.007   \n",
       "2019-11-30  1774.293994    1774.271000  0.191000  0.041500 -0.090500  0.006   \n",
       "2019-12-31  1785.772845    1785.576501  0.131905  0.031429  0.086667  0.007   \n",
       "\n",
       "            ADS_Index_010920  Typical_Price_MOM  Volume_MOM  \n",
       "Date                                                         \n",
       "2014-01-31         -0.380487                NaN         NaN  \n",
       "2014-02-28          0.122650         -11.017065   12.443644  \n",
       "2014-03-31          0.436126           2.609963  -19.817008  \n",
       "2014-04-30          0.308517         -12.246440   60.840880  \n",
       "2014-05-31          0.242648          -6.004035  -56.516418  \n",
       "...                      ...                ...         ...  \n",
       "2019-08-31          0.035436          -9.044258    8.627591  \n",
       "2019-09-30         -0.364348           0.254574  -17.014808  \n",
       "2019-10-31         -0.556550          -2.695753    0.016580  \n",
       "2019-11-30          0.162244           1.327807  -16.116205  \n",
       "2019-12-31          0.353785           0.635170   22.020709  \n",
       "\n",
       "[72 rows x 14 columns]"
      ]
     },
     "execution_count": 27,
     "metadata": {},
     "output_type": "execute_result"
    }
   ],
   "source": [
    "month_agg['Typical_Price_MOM'] = (np.log(month_agg.Typical_Price) - np.log(month_agg.Typical_Price.shift(1))) * 100.\n",
    "month_agg['Volume_MOM'] = (np.log(month_agg.Volume) - np.log(month_agg.Volume.shift(1))) * 100.\n",
    "\n",
    "\n",
    "month_agg\n"
   ]
  },
  {
   "cell_type": "code",
   "execution_count": 28,
   "metadata": {},
   "outputs": [
    {
     "data": {
      "text/html": [
       "<div>\n",
       "<style scoped>\n",
       "    .dataframe tbody tr th:only-of-type {\n",
       "        vertical-align: middle;\n",
       "    }\n",
       "\n",
       "    .dataframe tbody tr th {\n",
       "        vertical-align: top;\n",
       "    }\n",
       "\n",
       "    .dataframe thead th {\n",
       "        text-align: right;\n",
       "    }\n",
       "</style>\n",
       "<table border=\"1\" class=\"dataframe\">\n",
       "  <thead>\n",
       "    <tr style=\"text-align: right;\">\n",
       "      <th></th>\n",
       "      <th>High</th>\n",
       "      <th>Low</th>\n",
       "      <th>Open</th>\n",
       "      <th>Close</th>\n",
       "      <th>Volume</th>\n",
       "      <th>Adj Close</th>\n",
       "      <th>Typical_Price</th>\n",
       "      <th>Mkt-RF</th>\n",
       "      <th>SMB</th>\n",
       "      <th>HML</th>\n",
       "      <th>RF</th>\n",
       "      <th>ADS_Index_010920</th>\n",
       "      <th>Typical_Price_MOM</th>\n",
       "      <th>Volume_MOM</th>\n",
       "    </tr>\n",
       "    <tr>\n",
       "      <th>Date</th>\n",
       "      <th></th>\n",
       "      <th></th>\n",
       "      <th></th>\n",
       "      <th></th>\n",
       "      <th></th>\n",
       "      <th></th>\n",
       "      <th></th>\n",
       "      <th></th>\n",
       "      <th></th>\n",
       "      <th></th>\n",
       "      <th></th>\n",
       "      <th></th>\n",
       "      <th></th>\n",
       "      <th></th>\n",
       "    </tr>\n",
       "  </thead>\n",
       "  <tbody>\n",
       "    <tr>\n",
       "      <td>2014-01-31</td>\n",
       "      <td>399.871906</td>\n",
       "      <td>390.549526</td>\n",
       "      <td>395.972858</td>\n",
       "      <td>394.863335</td>\n",
       "      <td>3.857710e+06</td>\n",
       "      <td>394.863335</td>\n",
       "      <td>395.094922</td>\n",
       "      <td>-0.157619</td>\n",
       "      <td>0.043810</td>\n",
       "      <td>-0.102381</td>\n",
       "      <td>0.0</td>\n",
       "      <td>-0.380487</td>\n",
       "      <td>NaN</td>\n",
       "      <td>NaN</td>\n",
       "    </tr>\n",
       "    <tr>\n",
       "      <td>2014-02-28</td>\n",
       "      <td>358.100000</td>\n",
       "      <td>349.200528</td>\n",
       "      <td>354.363158</td>\n",
       "      <td>354.336843</td>\n",
       "      <td>4.368895e+06</td>\n",
       "      <td>354.336843</td>\n",
       "      <td>353.879124</td>\n",
       "      <td>0.242105</td>\n",
       "      <td>0.019474</td>\n",
       "      <td>-0.022632</td>\n",
       "      <td>0.0</td>\n",
       "      <td>0.122650</td>\n",
       "      <td>-11.017065</td>\n",
       "      <td>12.443644</td>\n",
       "    </tr>\n",
       "    <tr>\n",
       "      <td>2014-03-31</td>\n",
       "      <td>367.909999</td>\n",
       "      <td>359.169997</td>\n",
       "      <td>365.009520</td>\n",
       "      <td>362.630477</td>\n",
       "      <td>3.583500e+06</td>\n",
       "      <td>362.630477</td>\n",
       "      <td>363.236825</td>\n",
       "      <td>0.022381</td>\n",
       "      <td>-0.087619</td>\n",
       "      <td>0.242381</td>\n",
       "      <td>0.0</td>\n",
       "      <td>0.436126</td>\n",
       "      <td>2.609963</td>\n",
       "      <td>-19.817008</td>\n",
       "    </tr>\n",
       "    <tr>\n",
       "      <td>2014-04-30</td>\n",
       "      <td>326.722380</td>\n",
       "      <td>315.743811</td>\n",
       "      <td>323.132384</td>\n",
       "      <td>321.641426</td>\n",
       "      <td>6.584700e+06</td>\n",
       "      <td>321.641426</td>\n",
       "      <td>321.369206</td>\n",
       "      <td>-0.007619</td>\n",
       "      <td>-0.200952</td>\n",
       "      <td>0.055238</td>\n",
       "      <td>0.0</td>\n",
       "      <td>0.308517</td>\n",
       "      <td>-12.246440</td>\n",
       "      <td>60.840880</td>\n",
       "    </tr>\n",
       "    <tr>\n",
       "      <td>2014-05-31</td>\n",
       "      <td>306.176669</td>\n",
       "      <td>298.795240</td>\n",
       "      <td>302.474285</td>\n",
       "      <td>302.953811</td>\n",
       "      <td>3.741867e+06</td>\n",
       "      <td>302.953811</td>\n",
       "      <td>302.641907</td>\n",
       "      <td>0.099048</td>\n",
       "      <td>-0.083810</td>\n",
       "      <td>-0.014286</td>\n",
       "      <td>0.0</td>\n",
       "      <td>0.242648</td>\n",
       "      <td>-6.004035</td>\n",
       "      <td>-56.516418</td>\n",
       "    </tr>\n",
       "  </tbody>\n",
       "</table>\n",
       "</div>"
      ],
      "text/plain": [
       "                  High         Low        Open       Close        Volume  \\\n",
       "Date                                                                       \n",
       "2014-01-31  399.871906  390.549526  395.972858  394.863335  3.857710e+06   \n",
       "2014-02-28  358.100000  349.200528  354.363158  354.336843  4.368895e+06   \n",
       "2014-03-31  367.909999  359.169997  365.009520  362.630477  3.583500e+06   \n",
       "2014-04-30  326.722380  315.743811  323.132384  321.641426  6.584700e+06   \n",
       "2014-05-31  306.176669  298.795240  302.474285  302.953811  3.741867e+06   \n",
       "\n",
       "             Adj Close  Typical_Price    Mkt-RF       SMB       HML   RF  \\\n",
       "Date                                                                       \n",
       "2014-01-31  394.863335     395.094922 -0.157619  0.043810 -0.102381  0.0   \n",
       "2014-02-28  354.336843     353.879124  0.242105  0.019474 -0.022632  0.0   \n",
       "2014-03-31  362.630477     363.236825  0.022381 -0.087619  0.242381  0.0   \n",
       "2014-04-30  321.641426     321.369206 -0.007619 -0.200952  0.055238  0.0   \n",
       "2014-05-31  302.953811     302.641907  0.099048 -0.083810 -0.014286  0.0   \n",
       "\n",
       "            ADS_Index_010920  Typical_Price_MOM  Volume_MOM  \n",
       "Date                                                         \n",
       "2014-01-31         -0.380487                NaN         NaN  \n",
       "2014-02-28          0.122650         -11.017065   12.443644  \n",
       "2014-03-31          0.436126           2.609963  -19.817008  \n",
       "2014-04-30          0.308517         -12.246440   60.840880  \n",
       "2014-05-31          0.242648          -6.004035  -56.516418  "
      ]
     },
     "execution_count": 28,
     "metadata": {},
     "output_type": "execute_result"
    }
   ],
   "source": [
    "month_agg.head()"
   ]
  },
  {
   "cell_type": "code",
   "execution_count": 29,
   "metadata": {},
   "outputs": [
    {
     "data": {
      "text/html": [
       "<div>\n",
       "<style scoped>\n",
       "    .dataframe tbody tr th:only-of-type {\n",
       "        vertical-align: middle;\n",
       "    }\n",
       "\n",
       "    .dataframe tbody tr th {\n",
       "        vertical-align: top;\n",
       "    }\n",
       "\n",
       "    .dataframe thead th {\n",
       "        text-align: right;\n",
       "    }\n",
       "</style>\n",
       "<table border=\"1\" class=\"dataframe\">\n",
       "  <thead>\n",
       "    <tr style=\"text-align: right;\">\n",
       "      <th></th>\n",
       "      <th>High</th>\n",
       "      <th>Low</th>\n",
       "      <th>Open</th>\n",
       "      <th>Close</th>\n",
       "      <th>Volume</th>\n",
       "      <th>Adj Close</th>\n",
       "      <th>Typical_Price</th>\n",
       "      <th>Mkt-RF</th>\n",
       "      <th>SMB</th>\n",
       "      <th>HML</th>\n",
       "      <th>RF</th>\n",
       "      <th>ADS_Index_010920</th>\n",
       "      <th>Typical_Price_MOM</th>\n",
       "      <th>Volume_MOM</th>\n",
       "    </tr>\n",
       "    <tr>\n",
       "      <th>Date</th>\n",
       "      <th></th>\n",
       "      <th></th>\n",
       "      <th></th>\n",
       "      <th></th>\n",
       "      <th></th>\n",
       "      <th></th>\n",
       "      <th></th>\n",
       "      <th></th>\n",
       "      <th></th>\n",
       "      <th></th>\n",
       "      <th></th>\n",
       "      <th></th>\n",
       "      <th></th>\n",
       "      <th></th>\n",
       "    </tr>\n",
       "  </thead>\n",
       "  <tbody>\n",
       "    <tr>\n",
       "      <td>2019-08-31</td>\n",
       "      <td>1810.570007</td>\n",
       "      <td>1778.234092</td>\n",
       "      <td>1799.372265</td>\n",
       "      <td>1793.602722</td>\n",
       "      <td>3.625964e+06</td>\n",
       "      <td>1793.602722</td>\n",
       "      <td>1794.135607</td>\n",
       "      <td>-0.107273</td>\n",
       "      <td>-0.112727</td>\n",
       "      <td>-0.235455</td>\n",
       "      <td>0.007</td>\n",
       "      <td>0.035436</td>\n",
       "      <td>-9.044258</td>\n",
       "      <td>8.627591</td>\n",
       "    </tr>\n",
       "    <tr>\n",
       "      <td>2019-09-30</td>\n",
       "      <td>1812.319501</td>\n",
       "      <td>1784.685992</td>\n",
       "      <td>1801.715997</td>\n",
       "      <td>1799.120996</td>\n",
       "      <td>3.058645e+06</td>\n",
       "      <td>1799.120996</td>\n",
       "      <td>1798.708830</td>\n",
       "      <td>0.072500</td>\n",
       "      <td>-0.041000</td>\n",
       "      <td>0.332000</td>\n",
       "      <td>0.009</td>\n",
       "      <td>-0.364348</td>\n",
       "      <td>0.254574</td>\n",
       "      <td>-17.014808</td>\n",
       "    </tr>\n",
       "    <tr>\n",
       "      <td>2019-10-31</td>\n",
       "      <td>1763.666944</td>\n",
       "      <td>1736.604784</td>\n",
       "      <td>1749.137839</td>\n",
       "      <td>1752.331750</td>\n",
       "      <td>3.059152e+06</td>\n",
       "      <td>1752.331750</td>\n",
       "      <td>1750.867826</td>\n",
       "      <td>0.092174</td>\n",
       "      <td>0.011304</td>\n",
       "      <td>-0.086957</td>\n",
       "      <td>0.007</td>\n",
       "      <td>-0.556550</td>\n",
       "      <td>-2.695753</td>\n",
       "      <td>0.016580</td>\n",
       "    </tr>\n",
       "    <tr>\n",
       "      <td>2019-11-30</td>\n",
       "      <td>1784.218506</td>\n",
       "      <td>1764.300500</td>\n",
       "      <td>1775.338019</td>\n",
       "      <td>1774.293994</td>\n",
       "      <td>2.603810e+06</td>\n",
       "      <td>1774.293994</td>\n",
       "      <td>1774.271000</td>\n",
       "      <td>0.191000</td>\n",
       "      <td>0.041500</td>\n",
       "      <td>-0.090500</td>\n",
       "      <td>0.006</td>\n",
       "      <td>0.162244</td>\n",
       "      <td>1.327807</td>\n",
       "      <td>-16.116205</td>\n",
       "    </tr>\n",
       "    <tr>\n",
       "      <td>2019-12-31</td>\n",
       "      <td>1797.109997</td>\n",
       "      <td>1773.846662</td>\n",
       "      <td>1786.190011</td>\n",
       "      <td>1785.772845</td>\n",
       "      <td>3.245219e+06</td>\n",
       "      <td>1785.772845</td>\n",
       "      <td>1785.576501</td>\n",
       "      <td>0.131905</td>\n",
       "      <td>0.031429</td>\n",
       "      <td>0.086667</td>\n",
       "      <td>0.007</td>\n",
       "      <td>0.353785</td>\n",
       "      <td>0.635170</td>\n",
       "      <td>22.020709</td>\n",
       "    </tr>\n",
       "  </tbody>\n",
       "</table>\n",
       "</div>"
      ],
      "text/plain": [
       "                   High          Low         Open        Close        Volume  \\\n",
       "Date                                                                           \n",
       "2019-08-31  1810.570007  1778.234092  1799.372265  1793.602722  3.625964e+06   \n",
       "2019-09-30  1812.319501  1784.685992  1801.715997  1799.120996  3.058645e+06   \n",
       "2019-10-31  1763.666944  1736.604784  1749.137839  1752.331750  3.059152e+06   \n",
       "2019-11-30  1784.218506  1764.300500  1775.338019  1774.293994  2.603810e+06   \n",
       "2019-12-31  1797.109997  1773.846662  1786.190011  1785.772845  3.245219e+06   \n",
       "\n",
       "              Adj Close  Typical_Price    Mkt-RF       SMB       HML     RF  \\\n",
       "Date                                                                          \n",
       "2019-08-31  1793.602722    1794.135607 -0.107273 -0.112727 -0.235455  0.007   \n",
       "2019-09-30  1799.120996    1798.708830  0.072500 -0.041000  0.332000  0.009   \n",
       "2019-10-31  1752.331750    1750.867826  0.092174  0.011304 -0.086957  0.007   \n",
       "2019-11-30  1774.293994    1774.271000  0.191000  0.041500 -0.090500  0.006   \n",
       "2019-12-31  1785.772845    1785.576501  0.131905  0.031429  0.086667  0.007   \n",
       "\n",
       "            ADS_Index_010920  Typical_Price_MOM  Volume_MOM  \n",
       "Date                                                         \n",
       "2019-08-31          0.035436          -9.044258    8.627591  \n",
       "2019-09-30         -0.364348           0.254574  -17.014808  \n",
       "2019-10-31         -0.556550          -2.695753    0.016580  \n",
       "2019-11-30          0.162244           1.327807  -16.116205  \n",
       "2019-12-31          0.353785           0.635170   22.020709  "
      ]
     },
     "execution_count": 29,
     "metadata": {},
     "output_type": "execute_result"
    }
   ],
   "source": [
    "month_agg.tail()"
   ]
  },
  {
   "cell_type": "markdown",
   "metadata": {},
   "source": [
    "### Line Charts to check ADS and Fama Factor Trends with Amazon Typical Price"
   ]
  },
  {
   "cell_type": "code",
   "execution_count": 31,
   "metadata": {},
   "outputs": [
    {
     "data": {
      "text/plain": [
       "<matplotlib.axes._subplots.AxesSubplot at 0x1a22bce0d0>"
      ]
     },
     "execution_count": 31,
     "metadata": {},
     "output_type": "execute_result"
    },
    {
     "data": {
      "image/png": "[encoded data removed]",
      "text/plain": [
       "<Figure size 1080x288 with 1 Axes>"
      ]
     },
     "metadata": {
      "needs_background": "light"
     },
     "output_type": "display_data"
    }
   ],
   "source": [
    "month_agg[['ADS_Index_010920','SMB','HML']].loc['2016-01-04':].plot(figsize=(15,4), style=['-+','--','-o'], \n",
    "                                                                    title = 'ADS vs SMB vs HML')\n"
   ]
  },
  {
   "cell_type": "code",
   "execution_count": 32,
   "metadata": {},
   "outputs": [
    {
     "data": {
      "text/plain": [
       "<matplotlib.axes._subplots.AxesSubplot at 0x1a243b2850>"
      ]
     },
     "execution_count": 32,
     "metadata": {},
     "output_type": "execute_result"
    },
    {
     "data": {
      "image/png": "[encoded data removed]",
      "text/plain": [
       "<Figure size 1080x288 with 1 Axes>"
      ]
     },
     "metadata": {
      "needs_background": "light"
     },
     "output_type": "display_data"
    }
   ],
   "source": [
    "month_agg[['Typical_Price_MOM']].loc['2016-01-04':].plot(figsize=(15,4), style=['-','b'] , \n",
    "                                                        title = 'AMZN Typical Price Returns')"
   ]
  },
  {
   "cell_type": "markdown",
   "metadata": {},
   "source": [
    "#### We can see AMZN trend is most similar to that of ADS index and SMB index, so we would use thes two as high frequency variables to predict AMZN Quaterly returns"
   ]
  },
  {
   "cell_type": "markdown",
   "metadata": {},
   "source": [
    "### Resampling daily data to Quaterly aggregated data"
   ]
  },
  {
   "cell_type": "code",
   "execution_count": 33,
   "metadata": {},
   "outputs": [],
   "source": [
    "quaterly_agg = amzn_AF.resample('Q').mean()"
   ]
  },
  {
   "cell_type": "code",
   "execution_count": 34,
   "metadata": {},
   "outputs": [
    {
     "data": {
      "text/html": [
       "<div>\n",
       "<style scoped>\n",
       "    .dataframe tbody tr th:only-of-type {\n",
       "        vertical-align: middle;\n",
       "    }\n",
       "\n",
       "    .dataframe tbody tr th {\n",
       "        vertical-align: top;\n",
       "    }\n",
       "\n",
       "    .dataframe thead th {\n",
       "        text-align: right;\n",
       "    }\n",
       "</style>\n",
       "<table border=\"1\" class=\"dataframe\">\n",
       "  <thead>\n",
       "    <tr style=\"text-align: right;\">\n",
       "      <th></th>\n",
       "      <th>High</th>\n",
       "      <th>Low</th>\n",
       "      <th>Open</th>\n",
       "      <th>Close</th>\n",
       "      <th>Volume</th>\n",
       "      <th>Adj Close</th>\n",
       "      <th>Typical_Price</th>\n",
       "      <th>Mkt-RF</th>\n",
       "      <th>SMB</th>\n",
       "      <th>HML</th>\n",
       "      <th>RF</th>\n",
       "      <th>ADS_Index_010920</th>\n",
       "      <th>Typical_Price_QOQ</th>\n",
       "    </tr>\n",
       "    <tr>\n",
       "      <th>Date</th>\n",
       "      <th></th>\n",
       "      <th></th>\n",
       "      <th></th>\n",
       "      <th></th>\n",
       "      <th></th>\n",
       "      <th></th>\n",
       "      <th></th>\n",
       "      <th></th>\n",
       "      <th></th>\n",
       "      <th></th>\n",
       "      <th></th>\n",
       "      <th></th>\n",
       "      <th></th>\n",
       "    </tr>\n",
       "  </thead>\n",
       "  <tbody>\n",
       "    <tr>\n",
       "      <td>2018-12-31</td>\n",
       "      <td>1699.961902</td>\n",
       "      <td>1631.938727</td>\n",
       "      <td>1672.156027</td>\n",
       "      <td>1662.728893</td>\n",
       "      <td>7.576563e+06</td>\n",
       "      <td>1662.728893</td>\n",
       "      <td>1664.876507</td>\n",
       "      <td>-0.246825</td>\n",
       "      <td>-0.139365</td>\n",
       "      <td>0.033492</td>\n",
       "      <td>0.008603</td>\n",
       "      <td>-0.025648</td>\n",
       "      <td>-12.126345</td>\n",
       "    </tr>\n",
       "    <tr>\n",
       "      <td>2019-03-31</td>\n",
       "      <td>1679.465586</td>\n",
       "      <td>1644.461478</td>\n",
       "      <td>1660.534420</td>\n",
       "      <td>1664.341315</td>\n",
       "      <td>5.176570e+06</td>\n",
       "      <td>1664.341315</td>\n",
       "      <td>1662.756126</td>\n",
       "      <td>0.208525</td>\n",
       "      <td>0.027049</td>\n",
       "      <td>-0.121639</td>\n",
       "      <td>0.009656</td>\n",
       "      <td>-0.353642</td>\n",
       "      <td>-0.127441</td>\n",
       "    </tr>\n",
       "    <tr>\n",
       "      <td>2019-06-30</td>\n",
       "      <td>1876.760628</td>\n",
       "      <td>1846.824126</td>\n",
       "      <td>1863.109991</td>\n",
       "      <td>1863.000475</td>\n",
       "      <td>4.035727e+06</td>\n",
       "      <td>1863.000475</td>\n",
       "      <td>1862.195076</td>\n",
       "      <td>0.056825</td>\n",
       "      <td>-0.038571</td>\n",
       "      <td>-0.028413</td>\n",
       "      <td>0.009333</td>\n",
       "      <td>-0.398573</td>\n",
       "      <td>11.327940</td>\n",
       "    </tr>\n",
       "    <tr>\n",
       "      <td>2019-09-30</td>\n",
       "      <td>1868.458754</td>\n",
       "      <td>1838.824844</td>\n",
       "      <td>1857.009216</td>\n",
       "      <td>1854.548281</td>\n",
       "      <td>3.345648e+06</td>\n",
       "      <td>1854.548281</td>\n",
       "      <td>1853.943960</td>\n",
       "      <td>0.005312</td>\n",
       "      <td>-0.083594</td>\n",
       "      <td>0.025625</td>\n",
       "      <td>0.008313</td>\n",
       "      <td>-0.168735</td>\n",
       "      <td>-0.444070</td>\n",
       "    </tr>\n",
       "    <tr>\n",
       "      <td>2019-12-31</td>\n",
       "      <td>1781.062809</td>\n",
       "      <td>1757.479687</td>\n",
       "      <td>1769.483139</td>\n",
       "      <td>1770.167810</td>\n",
       "      <td>2.977911e+06</td>\n",
       "      <td>1770.167810</td>\n",
       "      <td>1769.570102</td>\n",
       "      <td>0.136094</td>\n",
       "      <td>0.027344</td>\n",
       "      <td>-0.031094</td>\n",
       "      <td>0.006688</td>\n",
       "      <td>-0.033223</td>\n",
       "      <td>-4.657860</td>\n",
       "    </tr>\n",
       "  </tbody>\n",
       "</table>\n",
       "</div>"
      ],
      "text/plain": [
       "                   High          Low         Open        Close        Volume  \\\n",
       "Date                                                                           \n",
       "2018-12-31  1699.961902  1631.938727  1672.156027  1662.728893  7.576563e+06   \n",
       "2019-03-31  1679.465586  1644.461478  1660.534420  1664.341315  5.176570e+06   \n",
       "2019-06-30  1876.760628  1846.824126  1863.109991  1863.000475  4.035727e+06   \n",
       "2019-09-30  1868.458754  1838.824844  1857.009216  1854.548281  3.345648e+06   \n",
       "2019-12-31  1781.062809  1757.479687  1769.483139  1770.167810  2.977911e+06   \n",
       "\n",
       "              Adj Close  Typical_Price    Mkt-RF       SMB       HML  \\\n",
       "Date                                                                   \n",
       "2018-12-31  1662.728893    1664.876507 -0.246825 -0.139365  0.033492   \n",
       "2019-03-31  1664.341315    1662.756126  0.208525  0.027049 -0.121639   \n",
       "2019-06-30  1863.000475    1862.195076  0.056825 -0.038571 -0.028413   \n",
       "2019-09-30  1854.548281    1853.943960  0.005312 -0.083594  0.025625   \n",
       "2019-12-31  1770.167810    1769.570102  0.136094  0.027344 -0.031094   \n",
       "\n",
       "                  RF  ADS_Index_010920  Typical_Price_QOQ  \n",
       "Date                                                       \n",
       "2018-12-31  0.008603         -0.025648         -12.126345  \n",
       "2019-03-31  0.009656         -0.353642          -0.127441  \n",
       "2019-06-30  0.009333         -0.398573          11.327940  \n",
       "2019-09-30  0.008313         -0.168735          -0.444070  \n",
       "2019-12-31  0.006688         -0.033223          -4.657860  "
      ]
     },
     "execution_count": 34,
     "metadata": {},
     "output_type": "execute_result"
    }
   ],
   "source": [
    "quaterly_agg\n",
    "quaterly_agg['Typical_Price_QOQ'] = (np.log(quaterly_agg.Typical_Price) - np.log(quaterly_agg.Typical_Price.shift(1))) * 100.\n",
    "quaterly_agg.tail()"
   ]
  },
  {
   "cell_type": "markdown",
   "metadata": {},
   "source": [
    "### Model - 1  using Typical Price \n"
   ]
  },
  {
   "cell_type": "code",
   "execution_count": 35,
   "metadata": {},
   "outputs": [],
   "source": [
    "AllModel_rmse = []"
   ]
  },
  {
   "cell_type": "code",
   "execution_count": 36,
   "metadata": {},
   "outputs": [],
   "source": [
    "y, yl, x, yf, ylf, xf = mix_freq(quaterly_agg.Typical_Price_QOQ,month_agg.Typical_Price_MOM, \"3m\", 1, 3,\n",
    "                                 start_date=datetime.datetime(2016,1,31),\n",
    "                                 end_date=datetime.datetime(2018,6,30))"
   ]
  },
  {
   "cell_type": "code",
   "execution_count": 37,
   "metadata": {},
   "outputs": [
    {
     "name": "stderr",
     "output_type": "stream",
     "text": [
      "/Users/dreamfires/Documents/ML Finance /Team Amazon/MIDAS_AMAZON/exp/Midas demo/midas/adl.py:32: FutureWarning: `rcond` parameter will change to the default of machine precision times ``max(M, N)`` where M and N are the input matrix dimensions.\n",
      "To use the future default and silence this warning we advise to pass `rcond=None`, to keep using the old, explicitly pass `rcond=-1`.\n",
      "  c = np.linalg.lstsq(np.concatenate([np.ones((len(xw), 1)), xw.reshape((len(xw), 1)), yl], axis=1), y)[0]\n"
     ]
    },
    {
     "data": {
      "text/plain": [
       "array([13.3550756 ,  2.10966789,  1.2273742 , 13.02602096, -1.07606025])"
      ]
     },
     "execution_count": 37,
     "metadata": {},
     "output_type": "execute_result"
    }
   ],
   "source": [
    "res = estimate(y, yl, x, poly='beta')\n",
    "res.x"
   ]
  },
  {
   "cell_type": "code",
   "execution_count": 38,
   "metadata": {},
   "outputs": [
    {
     "data": {
      "text/html": [
       "<div>\n",
       "<style scoped>\n",
       "    .dataframe tbody tr th:only-of-type {\n",
       "        vertical-align: middle;\n",
       "    }\n",
       "\n",
       "    .dataframe tbody tr th {\n",
       "        vertical-align: top;\n",
       "    }\n",
       "\n",
       "    .dataframe thead th {\n",
       "        text-align: right;\n",
       "    }\n",
       "</style>\n",
       "<table border=\"1\" class=\"dataframe\">\n",
       "  <thead>\n",
       "    <tr style=\"text-align: right;\">\n",
       "      <th></th>\n",
       "      <th>yfh</th>\n",
       "      <th>Typical_Price_QOQ</th>\n",
       "      <th>gap</th>\n",
       "    </tr>\n",
       "    <tr>\n",
       "      <th>Date</th>\n",
       "      <th></th>\n",
       "      <th></th>\n",
       "      <th></th>\n",
       "    </tr>\n",
       "  </thead>\n",
       "  <tbody>\n",
       "    <tr>\n",
       "      <td>2018-09-30</td>\n",
       "      <td>17.035060</td>\n",
       "      <td>16.912580</td>\n",
       "      <td>-0.122480</td>\n",
       "    </tr>\n",
       "    <tr>\n",
       "      <td>2018-12-31</td>\n",
       "      <td>5.011964</td>\n",
       "      <td>-12.126345</td>\n",
       "      <td>-17.138309</td>\n",
       "    </tr>\n",
       "    <tr>\n",
       "      <td>2019-03-31</td>\n",
       "      <td>13.218908</td>\n",
       "      <td>-0.127441</td>\n",
       "      <td>-13.346349</td>\n",
       "    </tr>\n",
       "    <tr>\n",
       "      <td>2019-06-30</td>\n",
       "      <td>19.822119</td>\n",
       "      <td>11.327940</td>\n",
       "      <td>-8.494179</td>\n",
       "    </tr>\n",
       "    <tr>\n",
       "      <td>2019-09-30</td>\n",
       "      <td>0.331638</td>\n",
       "      <td>-0.444070</td>\n",
       "      <td>-0.775708</td>\n",
       "    </tr>\n",
       "    <tr>\n",
       "      <td>2019-12-31</td>\n",
       "      <td>6.012090</td>\n",
       "      <td>-4.657860</td>\n",
       "      <td>-10.669950</td>\n",
       "    </tr>\n",
       "  </tbody>\n",
       "</table>\n",
       "</div>"
      ],
      "text/plain": [
       "                  yfh  Typical_Price_QOQ        gap\n",
       "Date                                               \n",
       "2018-09-30  17.035060          16.912580  -0.122480\n",
       "2018-12-31   5.011964         -12.126345 -17.138309\n",
       "2019-03-31  13.218908          -0.127441 -13.346349\n",
       "2019-06-30  19.822119          11.327940  -8.494179\n",
       "2019-09-30   0.331638          -0.444070  -0.775708\n",
       "2019-12-31   6.012090          -4.657860 -10.669950"
      ]
     },
     "execution_count": 38,
     "metadata": {},
     "output_type": "execute_result"
    }
   ],
   "source": [
    "fc = forecast(xf, ylf, res, poly='beta')\n",
    "forecast_df = fc.join(yf)\n",
    "forecast_df['gap'] = forecast_df.Typical_Price_QOQ - forecast_df.yfh \n",
    "forecast_df"
   ]
  },
  {
   "cell_type": "code",
   "execution_count": 39,
   "metadata": {},
   "outputs": [
    {
     "data": {
      "text/plain": [
       "<matplotlib.axes._subplots.AxesSubplot at 0x1a241a12d0>"
      ]
     },
     "execution_count": 39,
     "metadata": {},
     "output_type": "execute_result"
    },
    {
     "data": {
      "image/png": "[encoded data removed]",
      "text/plain": [
       "<Figure size 1296x288 with 1 Axes>"
      ]
     },
     "metadata": {
      "needs_background": "light"
     },
     "output_type": "display_data"
    }
   ],
   "source": [
    "quaterly_agg.join(fc)[['Typical_Price_QOQ','yfh']].loc['2016-1-31':].plot(style=['-','-+'], figsize=(18, 4))"
   ]
  },
  {
   "cell_type": "code",
   "execution_count": 40,
   "metadata": {},
   "outputs": [
    {
     "data": {
      "text/plain": [
       "10.475863469708923"
      ]
     },
     "execution_count": 40,
     "metadata": {},
     "output_type": "execute_result"
    }
   ],
   "source": [
    "rmse = ((forecast_df.Typical_Price_QOQ - forecast_df.yfh) ** 2).mean() ** .5\n",
    "rmse"
   ]
  },
  {
   "cell_type": "code",
   "execution_count": 41,
   "metadata": {},
   "outputs": [
    {
     "data": {
      "text/plain": [
       "[10.475863469708923]"
      ]
     },
     "execution_count": 41,
     "metadata": {},
     "output_type": "execute_result"
    }
   ],
   "source": [
    "AllModel_rmse.append(rmse)\n",
    "AllModel_rmse"
   ]
  },
  {
   "cell_type": "markdown",
   "metadata": {},
   "source": [
    "### Model 2 - considering typical price and change in volume MOM\n"
   ]
  },
  {
   "cell_type": "code",
   "execution_count": 42,
   "metadata": {},
   "outputs": [],
   "source": [
    "y, yl, x1, x2, yf, ylf, x1f, x2f =mix_freq2(quaterly_agg.Typical_Price_QOQ,month_agg.Volume_MOM,month_agg.Typical_Price_MOM, \"3m\",\"3m\", 1, 3,\n",
    "                                 start_date = datetime.datetime(2016,1,31),\n",
    "                                 end_date = datetime.datetime(2018,6,30))"
   ]
  },
  {
   "cell_type": "code",
   "execution_count": 43,
   "metadata": {},
   "outputs": [
    {
     "name": "stderr",
     "output_type": "stream",
     "text": [
      "/Users/dreamfires/Documents/ML Finance /Team Amazon/MIDAS_AMAZON/exp/Midas demo/midas/adl.py:85: FutureWarning: `rcond` parameter will change to the default of machine precision times ``max(M, N)`` where M and N are the input matrix dimensions.\n",
      "To use the future default and silence this warning we advise to pass `rcond=None`, to keep using the old, explicitly pass `rcond=-1`.\n",
      "  c = np.linalg.lstsq(np.concatenate([np.ones((len(xw1), 1)), xw1.reshape((len(xw1), 1)), xw2.reshape((len(xw2), 1)), yl], axis=1), y)[0]\n"
     ]
    },
    {
     "data": {
      "text/plain": [
       "array([ 10.33593201,  -0.14748601,   5.31940874, -79.31412837,\n",
       "        19.83174043,  -3.05551386,   0.67853814,  -1.81532813])"
      ]
     },
     "execution_count": 43,
     "metadata": {},
     "output_type": "execute_result"
    }
   ],
   "source": [
    "res = estimate2(y, yl, x1, x2, poly1='expalmon', poly2='expalmon')\n",
    "res.x"
   ]
  },
  {
   "cell_type": "code",
   "execution_count": 44,
   "metadata": {},
   "outputs": [
    {
     "data": {
      "text/html": [
       "<div>\n",
       "<style scoped>\n",
       "    .dataframe tbody tr th:only-of-type {\n",
       "        vertical-align: middle;\n",
       "    }\n",
       "\n",
       "    .dataframe tbody tr th {\n",
       "        vertical-align: top;\n",
       "    }\n",
       "\n",
       "    .dataframe thead th {\n",
       "        text-align: right;\n",
       "    }\n",
       "</style>\n",
       "<table border=\"1\" class=\"dataframe\">\n",
       "  <thead>\n",
       "    <tr style=\"text-align: right;\">\n",
       "      <th></th>\n",
       "      <th>yfh</th>\n",
       "      <th>Typical_Price_QOQ</th>\n",
       "      <th>gap</th>\n",
       "    </tr>\n",
       "    <tr>\n",
       "      <th>Date</th>\n",
       "      <th></th>\n",
       "      <th></th>\n",
       "      <th></th>\n",
       "    </tr>\n",
       "  </thead>\n",
       "  <tbody>\n",
       "    <tr>\n",
       "      <td>2018-09-30</td>\n",
       "      <td>9.584323</td>\n",
       "      <td>16.912580</td>\n",
       "      <td>7.328257</td>\n",
       "    </tr>\n",
       "    <tr>\n",
       "      <td>2018-12-31</td>\n",
       "      <td>1.098176</td>\n",
       "      <td>-12.126345</td>\n",
       "      <td>-13.224521</td>\n",
       "    </tr>\n",
       "    <tr>\n",
       "      <td>2019-03-31</td>\n",
       "      <td>-7.153349</td>\n",
       "      <td>-0.127441</td>\n",
       "      <td>7.025908</td>\n",
       "    </tr>\n",
       "    <tr>\n",
       "      <td>2019-06-30</td>\n",
       "      <td>33.734575</td>\n",
       "      <td>11.327940</td>\n",
       "      <td>-22.406635</td>\n",
       "    </tr>\n",
       "    <tr>\n",
       "      <td>2019-09-30</td>\n",
       "      <td>1.810887</td>\n",
       "      <td>-0.444070</td>\n",
       "      <td>-2.254957</td>\n",
       "    </tr>\n",
       "    <tr>\n",
       "      <td>2019-12-31</td>\n",
       "      <td>13.094956</td>\n",
       "      <td>-4.657860</td>\n",
       "      <td>-17.752816</td>\n",
       "    </tr>\n",
       "  </tbody>\n",
       "</table>\n",
       "</div>"
      ],
      "text/plain": [
       "                  yfh  Typical_Price_QOQ        gap\n",
       "Date                                               \n",
       "2018-09-30   9.584323          16.912580   7.328257\n",
       "2018-12-31   1.098176         -12.126345 -13.224521\n",
       "2019-03-31  -7.153349          -0.127441   7.025908\n",
       "2019-06-30  33.734575          11.327940 -22.406635\n",
       "2019-09-30   1.810887          -0.444070  -2.254957\n",
       "2019-12-31  13.094956          -4.657860 -17.752816"
      ]
     },
     "execution_count": 44,
     "metadata": {},
     "output_type": "execute_result"
    }
   ],
   "source": [
    "fc = forecast2(x1f, x2f, ylf, res, poly1='expalmon',poly2='expalmon')\n",
    "forecast_df = fc.join(yf)\n",
    "forecast_df['gap'] = forecast_df.Typical_Price_QOQ - forecast_df.yfh  \n",
    "forecast_df"
   ]
  },
  {
   "cell_type": "code",
   "execution_count": 45,
   "metadata": {},
   "outputs": [
    {
     "data": {
      "text/plain": [
       "13.541659807492866"
      ]
     },
     "execution_count": 45,
     "metadata": {},
     "output_type": "execute_result"
    }
   ],
   "source": [
    "rmse = ((forecast_df.Typical_Price_QOQ - forecast_df.yfh) ** 2).mean() ** .5\n",
    "rmse"
   ]
  },
  {
   "cell_type": "code",
   "execution_count": 46,
   "metadata": {},
   "outputs": [
    {
     "data": {
      "text/plain": [
       "<matplotlib.axes._subplots.AxesSubplot at 0x1a2423cad0>"
      ]
     },
     "execution_count": 46,
     "metadata": {},
     "output_type": "execute_result"
    },
    {
     "data": {
      "image/png": "[encoded data removed]",
      "text/plain": [
       "<Figure size 1008x288 with 1 Axes>"
      ]
     },
     "metadata": {
      "needs_background": "light"
     },
     "output_type": "display_data"
    }
   ],
   "source": [
    "quaterly_agg.join(fc)[['Typical_Price_QOQ','yfh']].loc['2016-1-31':].plot(style=['-','-+'], figsize=(14, 4))"
   ]
  },
  {
   "cell_type": "code",
   "execution_count": 47,
   "metadata": {},
   "outputs": [
    {
     "data": {
      "text/plain": [
       "[10.475863469708923, 13.541659807492866]"
      ]
     },
     "execution_count": 47,
     "metadata": {},
     "output_type": "execute_result"
    }
   ],
   "source": [
    "AllModel_rmse.append(rmse)\n",
    "AllModel_rmse"
   ]
  },
  {
   "cell_type": "markdown",
   "metadata": {},
   "source": [
    "### Model - 3 - considering Typical Price and ADS index\n"
   ]
  },
  {
   "cell_type": "code",
   "execution_count": 49,
   "metadata": {},
   "outputs": [],
   "source": [
    "y, yl, x1, x2, yf, ylf, x1f, x2f =mix_freq2(quaterly_agg.Typical_Price_QOQ,month_agg.Typical_Price_MOM,month_agg.ADS_Index_010920, \"3m\",\"3m\", 1, 3,\n",
    "                                 start_date = datetime.datetime(2016,1,31),\n",
    "                                 end_date = datetime.datetime(2018,6,30))"
   ]
  },
  {
   "cell_type": "code",
   "execution_count": 50,
   "metadata": {},
   "outputs": [
    {
     "data": {
      "text/plain": [
       "array([ 15.52712785,   3.44123483,  26.05194104,  30.36171857,\n",
       "       -10.3480476 ,  -2.59933411,  -7.11212926,  -1.45816026])"
      ]
     },
     "execution_count": 50,
     "metadata": {},
     "output_type": "execute_result"
    }
   ],
   "source": [
    "res = estimate2(y, yl, x1, x2, poly1='expalmon', poly2='expalmon')\n",
    "res.x"
   ]
  },
  {
   "cell_type": "code",
   "execution_count": 51,
   "metadata": {},
   "outputs": [
    {
     "data": {
      "text/html": [
       "<div>\n",
       "<style scoped>\n",
       "    .dataframe tbody tr th:only-of-type {\n",
       "        vertical-align: middle;\n",
       "    }\n",
       "\n",
       "    .dataframe tbody tr th {\n",
       "        vertical-align: top;\n",
       "    }\n",
       "\n",
       "    .dataframe thead th {\n",
       "        text-align: right;\n",
       "    }\n",
       "</style>\n",
       "<table border=\"1\" class=\"dataframe\">\n",
       "  <thead>\n",
       "    <tr style=\"text-align: right;\">\n",
       "      <th></th>\n",
       "      <th>yfh</th>\n",
       "      <th>Typical_Price_QOQ</th>\n",
       "      <th>gap</th>\n",
       "    </tr>\n",
       "    <tr>\n",
       "      <th>Date</th>\n",
       "      <th></th>\n",
       "      <th></th>\n",
       "      <th></th>\n",
       "    </tr>\n",
       "  </thead>\n",
       "  <tbody>\n",
       "    <tr>\n",
       "      <td>2018-09-30</td>\n",
       "      <td>27.226076</td>\n",
       "      <td>16.912580</td>\n",
       "      <td>-10.313496</td>\n",
       "    </tr>\n",
       "    <tr>\n",
       "      <td>2018-12-31</td>\n",
       "      <td>5.515613</td>\n",
       "      <td>-12.126345</td>\n",
       "      <td>-17.641958</td>\n",
       "    </tr>\n",
       "    <tr>\n",
       "      <td>2019-03-31</td>\n",
       "      <td>13.125486</td>\n",
       "      <td>-0.127441</td>\n",
       "      <td>-13.252927</td>\n",
       "    </tr>\n",
       "    <tr>\n",
       "      <td>2019-06-30</td>\n",
       "      <td>18.144673</td>\n",
       "      <td>11.327940</td>\n",
       "      <td>-6.816734</td>\n",
       "    </tr>\n",
       "    <tr>\n",
       "      <td>2019-09-30</td>\n",
       "      <td>-7.970123</td>\n",
       "      <td>-0.444070</td>\n",
       "      <td>7.526053</td>\n",
       "    </tr>\n",
       "    <tr>\n",
       "      <td>2019-12-31</td>\n",
       "      <td>-3.184140</td>\n",
       "      <td>-4.657860</td>\n",
       "      <td>-1.473721</td>\n",
       "    </tr>\n",
       "  </tbody>\n",
       "</table>\n",
       "</div>"
      ],
      "text/plain": [
       "                  yfh  Typical_Price_QOQ        gap\n",
       "Date                                               \n",
       "2018-09-30  27.226076          16.912580 -10.313496\n",
       "2018-12-31   5.515613         -12.126345 -17.641958\n",
       "2019-03-31  13.125486          -0.127441 -13.252927\n",
       "2019-06-30  18.144673          11.327940  -6.816734\n",
       "2019-09-30  -7.970123          -0.444070   7.526053\n",
       "2019-12-31  -3.184140          -4.657860  -1.473721"
      ]
     },
     "execution_count": 51,
     "metadata": {},
     "output_type": "execute_result"
    }
   ],
   "source": [
    "fc = forecast2(x1f, x2f, ylf, res, poly1='expalmon',poly2='expalmon')\n",
    "forecast_df = fc.join(yf)\n",
    "forecast_df['gap'] = forecast_df.Typical_Price_QOQ - forecast_df.yfh  \n",
    "forecast_df"
   ]
  },
  {
   "cell_type": "code",
   "execution_count": 52,
   "metadata": {},
   "outputs": [
    {
     "data": {
      "text/plain": [
       "<matplotlib.axes._subplots.AxesSubplot at 0x1a2405ca50>"
      ]
     },
     "execution_count": 52,
     "metadata": {},
     "output_type": "execute_result"
    },
    {
     "data": {
      "image/png": "[encoded data removed]",
      "text/plain": [
       "<Figure size 1008x288 with 1 Axes>"
      ]
     },
     "metadata": {
      "needs_background": "light"
     },
     "output_type": "display_data"
    }
   ],
   "source": [
    "quaterly_agg.join(fc)[['Typical_Price_QOQ','yfh']].loc['2016-1-31':].plot(style=['-','-+'], figsize=(14, 4))"
   ]
  },
  {
   "cell_type": "code",
   "execution_count": 53,
   "metadata": {},
   "outputs": [
    {
     "data": {
      "text/plain": [
       "10.789872856522226"
      ]
     },
     "execution_count": 53,
     "metadata": {},
     "output_type": "execute_result"
    }
   ],
   "source": [
    "rmse = ((forecast_df.Typical_Price_QOQ - forecast_df.yfh) ** 2).mean() ** .5\n",
    "rmse"
   ]
  },
  {
   "cell_type": "code",
   "execution_count": 54,
   "metadata": {},
   "outputs": [
    {
     "data": {
      "text/plain": [
       "[10.475863469708923, 13.541659807492866, 10.789872856522226]"
      ]
     },
     "execution_count": 54,
     "metadata": {},
     "output_type": "execute_result"
    }
   ],
   "source": [
    "AllModel_rmse.append(rmse)\n",
    "AllModel_rmse"
   ]
  },
  {
   "cell_type": "markdown",
   "metadata": {},
   "source": [
    "### Model 4 - using Typical Price and SMB \n"
   ]
  },
  {
   "cell_type": "code",
   "execution_count": 55,
   "metadata": {},
   "outputs": [],
   "source": [
    "y, yl, x1, x2, yf, ylf, x1f, x2f =mix_freq2(quaterly_agg.Typical_Price_QOQ,month_agg.Typical_Price_MOM,month_agg.SMB, \"3m\",\"3m\", 1, 3,\n",
    "                                 start_date = datetime.datetime(2016,1,31),\n",
    "                                 end_date = datetime.datetime(2018,6,30))"
   ]
  },
  {
   "cell_type": "code",
   "execution_count": 56,
   "metadata": {},
   "outputs": [
    {
     "data": {
      "text/plain": [
       "array([ 1.19827982e+01,  1.25816880e+01,  3.17815778e+02,  1.38470892e+00,\n",
       "       -3.85975252e-01,  8.77154322e+02, -2.92520023e+02, -5.87993050e+00])"
      ]
     },
     "execution_count": 56,
     "metadata": {},
     "output_type": "execute_result"
    }
   ],
   "source": [
    "res = estimate2(y, yl, x1, x2, poly1='expalmon', poly2='expalmon')\n",
    "res.x"
   ]
  },
  {
   "cell_type": "code",
   "execution_count": 57,
   "metadata": {},
   "outputs": [
    {
     "data": {
      "text/html": [
       "<div>\n",
       "<style scoped>\n",
       "    .dataframe tbody tr th:only-of-type {\n",
       "        vertical-align: middle;\n",
       "    }\n",
       "\n",
       "    .dataframe tbody tr th {\n",
       "        vertical-align: top;\n",
       "    }\n",
       "\n",
       "    .dataframe thead th {\n",
       "        text-align: right;\n",
       "    }\n",
       "</style>\n",
       "<table border=\"1\" class=\"dataframe\">\n",
       "  <thead>\n",
       "    <tr style=\"text-align: right;\">\n",
       "      <th></th>\n",
       "      <th>yfh</th>\n",
       "      <th>Typical_Price_QOQ</th>\n",
       "      <th>gap</th>\n",
       "    </tr>\n",
       "    <tr>\n",
       "      <th>Date</th>\n",
       "      <th></th>\n",
       "      <th></th>\n",
       "      <th></th>\n",
       "    </tr>\n",
       "  </thead>\n",
       "  <tbody>\n",
       "    <tr>\n",
       "      <td>2018-09-30</td>\n",
       "      <td>45.380747</td>\n",
       "      <td>16.912580</td>\n",
       "      <td>-28.468167</td>\n",
       "    </tr>\n",
       "    <tr>\n",
       "      <td>2018-12-31</td>\n",
       "      <td>-42.650962</td>\n",
       "      <td>-12.126345</td>\n",
       "      <td>30.524617</td>\n",
       "    </tr>\n",
       "    <tr>\n",
       "      <td>2019-03-31</td>\n",
       "      <td>-46.207223</td>\n",
       "      <td>-0.127441</td>\n",
       "      <td>46.079783</td>\n",
       "    </tr>\n",
       "    <tr>\n",
       "      <td>2019-06-30</td>\n",
       "      <td>33.134151</td>\n",
       "      <td>11.327940</td>\n",
       "      <td>-21.806211</td>\n",
       "    </tr>\n",
       "    <tr>\n",
       "      <td>2019-09-30</td>\n",
       "      <td>-36.193854</td>\n",
       "      <td>-0.444070</td>\n",
       "      <td>35.749784</td>\n",
       "    </tr>\n",
       "    <tr>\n",
       "      <td>2019-12-31</td>\n",
       "      <td>-36.421253</td>\n",
       "      <td>-4.657860</td>\n",
       "      <td>31.763393</td>\n",
       "    </tr>\n",
       "  </tbody>\n",
       "</table>\n",
       "</div>"
      ],
      "text/plain": [
       "                  yfh  Typical_Price_QOQ        gap\n",
       "Date                                               \n",
       "2018-09-30  45.380747          16.912580 -28.468167\n",
       "2018-12-31 -42.650962         -12.126345  30.524617\n",
       "2019-03-31 -46.207223          -0.127441  46.079783\n",
       "2019-06-30  33.134151          11.327940 -21.806211\n",
       "2019-09-30 -36.193854          -0.444070  35.749784\n",
       "2019-12-31 -36.421253          -4.657860  31.763393"
      ]
     },
     "execution_count": 57,
     "metadata": {},
     "output_type": "execute_result"
    }
   ],
   "source": [
    "fc = forecast2(x1f, x2f, ylf, res, poly1='expalmon',poly2='expalmon')\n",
    "forecast_df = fc.join(yf)\n",
    "forecast_df['gap'] = forecast_df.Typical_Price_QOQ - forecast_df.yfh  \n",
    "forecast_df"
   ]
  },
  {
   "cell_type": "code",
   "execution_count": 58,
   "metadata": {},
   "outputs": [
    {
     "data": {
      "text/plain": [
       "<matplotlib.axes._subplots.AxesSubplot at 0x1a2418c490>"
      ]
     },
     "execution_count": 58,
     "metadata": {},
     "output_type": "execute_result"
    },
    {
     "data": {
      "image/png": "[encoded data removed]",
      "text/plain": [
       "<Figure size 1008x288 with 1 Axes>"
      ]
     },
     "metadata": {
      "needs_background": "light"
     },
     "output_type": "display_data"
    }
   ],
   "source": [
    "quaterly_agg.join(fc)[['Typical_Price_QOQ','yfh']].loc['2016-1-31':].plot(style=['-','-+'], figsize=(14, 4))"
   ]
  },
  {
   "cell_type": "code",
   "execution_count": 59,
   "metadata": {},
   "outputs": [
    {
     "data": {
      "text/plain": [
       "33.23654156293074"
      ]
     },
     "execution_count": 59,
     "metadata": {},
     "output_type": "execute_result"
    }
   ],
   "source": [
    "rmse = ((forecast_df.Typical_Price_QOQ - forecast_df.yfh) ** 2).mean() ** .5\n",
    "rmse"
   ]
  },
  {
   "cell_type": "code",
   "execution_count": 60,
   "metadata": {},
   "outputs": [
    {
     "data": {
      "text/plain": [
       "[10.475863469708923, 13.541659807492866, 10.789872856522226, 33.23654156293074]"
      ]
     },
     "execution_count": 60,
     "metadata": {},
     "output_type": "execute_result"
    }
   ],
   "source": [
    "AllModel_rmse.append(rmse)\n",
    "AllModel_rmse"
   ]
  },
  {
   "cell_type": "markdown",
   "metadata": {},
   "source": [
    "### RMSE Graph"
   ]
  },
  {
   "cell_type": "code",
   "execution_count": 61,
   "metadata": {},
   "outputs": [
    {
     "data": {
      "image/png": "[encoded data removed]",
      "text/plain": [
       "<Figure size 432x288 with 1 Axes>"
      ]
     },
     "metadata": {
      "needs_background": "light"
     },
     "output_type": "display_data"
    }
   ],
   "source": [
    "plt.scatter([1,2,3,4],list(AllModel_rmse) )\n",
    "plt.plot([1,2,3,4],list(AllModel_rmse))\n",
    "plt.xlabel('Model No')\n",
    "plt.ylabel('RMSE')\n",
    "plt.title('RMSE Curvve')\n",
    "plt.show()\n"
   ]
  },
  {
   "cell_type": "markdown",
   "metadata": {},
   "source": [
    "### Checking for Optimum horizons in model 2"
   ]
  },
  {
   "cell_type": "code",
   "execution_count": 62,
   "metadata": {},
   "outputs": [],
   "source": [
    "y, yl, x1, x2, yf, ylf, x1f, x2f =mix_freq2(quaterly_agg.Typical_Price_QOQ,month_agg.Volume_MOM,month_agg.Typical_Price_MOM, \"3m\",\"3m\", 1, 4,\n",
    "                                 start_date = datetime.datetime(2016,1,31),\n",
    "                                 end_date = datetime.datetime(2018,6,30))"
   ]
  },
  {
   "cell_type": "code",
   "execution_count": 63,
   "metadata": {},
   "outputs": [
    {
     "data": {
      "text/plain": [
       "array([18.00458674,  0.17293709,  1.11884278, 26.42185306, -9.3143633 ,\n",
       "       -4.48090879, -7.26568765, -1.34282057])"
      ]
     },
     "execution_count": 63,
     "metadata": {},
     "output_type": "execute_result"
    }
   ],
   "source": [
    "res = estimate2(y, yl, x1, x2, poly1='expalmon', poly2='expalmon')\n",
    "res.x"
   ]
  },
  {
   "cell_type": "code",
   "execution_count": 64,
   "metadata": {},
   "outputs": [
    {
     "data": {
      "text/html": [
       "<div>\n",
       "<style scoped>\n",
       "    .dataframe tbody tr th:only-of-type {\n",
       "        vertical-align: middle;\n",
       "    }\n",
       "\n",
       "    .dataframe tbody tr th {\n",
       "        vertical-align: top;\n",
       "    }\n",
       "\n",
       "    .dataframe thead th {\n",
       "        text-align: right;\n",
       "    }\n",
       "</style>\n",
       "<table border=\"1\" class=\"dataframe\">\n",
       "  <thead>\n",
       "    <tr style=\"text-align: right;\">\n",
       "      <th></th>\n",
       "      <th>yfh</th>\n",
       "      <th>Typical_Price_QOQ</th>\n",
       "      <th>gap</th>\n",
       "    </tr>\n",
       "    <tr>\n",
       "      <th>Date</th>\n",
       "      <th></th>\n",
       "      <th></th>\n",
       "      <th></th>\n",
       "    </tr>\n",
       "  </thead>\n",
       "  <tbody>\n",
       "    <tr>\n",
       "      <td>2018-09-30</td>\n",
       "      <td>3.768658</td>\n",
       "      <td>16.912580</td>\n",
       "      <td>13.143922</td>\n",
       "    </tr>\n",
       "    <tr>\n",
       "      <td>2018-12-31</td>\n",
       "      <td>1.075534</td>\n",
       "      <td>-12.126345</td>\n",
       "      <td>-13.201879</td>\n",
       "    </tr>\n",
       "    <tr>\n",
       "      <td>2019-03-31</td>\n",
       "      <td>22.507867</td>\n",
       "      <td>-0.127441</td>\n",
       "      <td>-22.635308</td>\n",
       "    </tr>\n",
       "    <tr>\n",
       "      <td>2019-06-30</td>\n",
       "      <td>10.978267</td>\n",
       "      <td>11.327940</td>\n",
       "      <td>0.349673</td>\n",
       "    </tr>\n",
       "    <tr>\n",
       "      <td>2019-09-30</td>\n",
       "      <td>4.484084</td>\n",
       "      <td>-0.444070</td>\n",
       "      <td>-4.928154</td>\n",
       "    </tr>\n",
       "    <tr>\n",
       "      <td>2019-12-31</td>\n",
       "      <td>9.345210</td>\n",
       "      <td>-4.657860</td>\n",
       "      <td>-14.003070</td>\n",
       "    </tr>\n",
       "  </tbody>\n",
       "</table>\n",
       "</div>"
      ],
      "text/plain": [
       "                  yfh  Typical_Price_QOQ        gap\n",
       "Date                                               \n",
       "2018-09-30   3.768658          16.912580  13.143922\n",
       "2018-12-31   1.075534         -12.126345 -13.201879\n",
       "2019-03-31  22.507867          -0.127441 -22.635308\n",
       "2019-06-30  10.978267          11.327940   0.349673\n",
       "2019-09-30   4.484084          -0.444070  -4.928154\n",
       "2019-12-31   9.345210          -4.657860 -14.003070"
      ]
     },
     "execution_count": 64,
     "metadata": {},
     "output_type": "execute_result"
    }
   ],
   "source": [
    "fc = forecast2(x1f, x2f, ylf, res, poly1='expalmon',poly2='expalmon')\n",
    "forecast_df = fc.join(yf)\n",
    "forecast_df['gap'] = forecast_df.Typical_Price_QOQ - forecast_df.yfh  \n",
    "forecast_df"
   ]
  },
  {
   "cell_type": "code",
   "execution_count": 65,
   "metadata": {},
   "outputs": [
    {
     "data": {
      "text/plain": [
       "<matplotlib.axes._subplots.AxesSubplot at 0x1a23f63190>"
      ]
     },
     "execution_count": 65,
     "metadata": {},
     "output_type": "execute_result"
    },
    {
     "data": {
      "image/png": "[encoded data removed]",
      "text/plain": [
       "<Figure size 1008x288 with 1 Axes>"
      ]
     },
     "metadata": {
      "needs_background": "light"
     },
     "output_type": "display_data"
    }
   ],
   "source": [
    "quaterly_agg.join(fc)[['Typical_Price_QOQ','yfh']].loc['2016-1-31':].plot(style=['-','-+'], figsize=(14, 4))"
   ]
  },
  {
   "cell_type": "code",
   "execution_count": 66,
   "metadata": {},
   "outputs": [
    {
     "data": {
      "text/plain": [
       "13.415814224860416"
      ]
     },
     "execution_count": 66,
     "metadata": {},
     "output_type": "execute_result"
    }
   ],
   "source": [
    "rmse = ((forecast_df.Typical_Price_QOQ - forecast_df.yfh) ** 2).mean() ** .5\n",
    "rmse"
   ]
  },
  {
   "cell_type": "markdown",
   "metadata": {},
   "source": [
    "### We can observe by increasing horizon, we do generalize the model around mean and it does not follow the predictive trend,we can chose 3 as optimal horizon"
   ]
  },
  {
   "cell_type": "markdown",
   "metadata": {},
   "source": [
    "### Retaining it for 3 Horizon - Model 2"
   ]
  },
  {
   "cell_type": "code",
   "execution_count": 67,
   "metadata": {},
   "outputs": [],
   "source": [
    "y, yl, x1, x2, yf, ylf, x1f, x2f =mix_freq2(quaterly_agg.Typical_Price_QOQ,month_agg.Volume_MOM,month_agg.Typical_Price_MOM, \"3m\",\"3m\", 1, 3,\n",
    "                                 start_date = datetime.datetime(2016,1,31),\n",
    "                                 end_date = datetime.datetime(2018,3,31))"
   ]
  },
  {
   "cell_type": "code",
   "execution_count": 68,
   "metadata": {},
   "outputs": [
    {
     "data": {
      "text/plain": [
       "array([26.66794147, -0.12208882,  2.53614949, 40.20362108, -7.5626891 ,\n",
       "       46.63618477, -9.66069035, -2.8204745 ])"
      ]
     },
     "execution_count": 68,
     "metadata": {},
     "output_type": "execute_result"
    }
   ],
   "source": [
    "res = estimate2(y, yl, x1, x2, poly1='expalmon', poly2='expalmon')\n",
    "res.x"
   ]
  },
  {
   "cell_type": "code",
   "execution_count": 69,
   "metadata": {},
   "outputs": [
    {
     "data": {
      "text/html": [
       "<div>\n",
       "<style scoped>\n",
       "    .dataframe tbody tr th:only-of-type {\n",
       "        vertical-align: middle;\n",
       "    }\n",
       "\n",
       "    .dataframe tbody tr th {\n",
       "        vertical-align: top;\n",
       "    }\n",
       "\n",
       "    .dataframe thead th {\n",
       "        text-align: right;\n",
       "    }\n",
       "</style>\n",
       "<table border=\"1\" class=\"dataframe\">\n",
       "  <thead>\n",
       "    <tr style=\"text-align: right;\">\n",
       "      <th></th>\n",
       "      <th>yfh</th>\n",
       "      <th>Typical_Price_QOQ</th>\n",
       "      <th>gap</th>\n",
       "    </tr>\n",
       "    <tr>\n",
       "      <th>Date</th>\n",
       "      <th></th>\n",
       "      <th></th>\n",
       "      <th></th>\n",
       "    </tr>\n",
       "  </thead>\n",
       "  <tbody>\n",
       "    <tr>\n",
       "      <td>2018-06-30</td>\n",
       "      <td>-26.939694</td>\n",
       "      <td>10.525153</td>\n",
       "      <td>37.464847</td>\n",
       "    </tr>\n",
       "    <tr>\n",
       "      <td>2018-09-30</td>\n",
       "      <td>13.051486</td>\n",
       "      <td>16.912580</td>\n",
       "      <td>3.861094</td>\n",
       "    </tr>\n",
       "    <tr>\n",
       "      <td>2018-12-31</td>\n",
       "      <td>-7.366618</td>\n",
       "      <td>-12.126345</td>\n",
       "      <td>-4.759727</td>\n",
       "    </tr>\n",
       "    <tr>\n",
       "      <td>2019-03-31</td>\n",
       "      <td>31.633811</td>\n",
       "      <td>-0.127441</td>\n",
       "      <td>-31.761252</td>\n",
       "    </tr>\n",
       "    <tr>\n",
       "      <td>2019-06-30</td>\n",
       "      <td>30.685071</td>\n",
       "      <td>11.327940</td>\n",
       "      <td>-19.357131</td>\n",
       "    </tr>\n",
       "    <tr>\n",
       "      <td>2019-09-30</td>\n",
       "      <td>0.814227</td>\n",
       "      <td>-0.444070</td>\n",
       "      <td>-1.258297</td>\n",
       "    </tr>\n",
       "    <tr>\n",
       "      <td>2019-12-31</td>\n",
       "      <td>12.192686</td>\n",
       "      <td>-4.657860</td>\n",
       "      <td>-16.850546</td>\n",
       "    </tr>\n",
       "  </tbody>\n",
       "</table>\n",
       "</div>"
      ],
      "text/plain": [
       "                  yfh  Typical_Price_QOQ        gap\n",
       "Date                                               \n",
       "2018-06-30 -26.939694          10.525153  37.464847\n",
       "2018-09-30  13.051486          16.912580   3.861094\n",
       "2018-12-31  -7.366618         -12.126345  -4.759727\n",
       "2019-03-31  31.633811          -0.127441 -31.761252\n",
       "2019-06-30  30.685071          11.327940 -19.357131\n",
       "2019-09-30   0.814227          -0.444070  -1.258297\n",
       "2019-12-31  12.192686          -4.657860 -16.850546"
      ]
     },
     "execution_count": 69,
     "metadata": {},
     "output_type": "execute_result"
    }
   ],
   "source": [
    "fc = forecast2(x1f, x2f, ylf, res, poly1='expalmon',poly2='expalmon')\n",
    "forecast_df = fc.join(yf)\n",
    "forecast_df['gap'] = forecast_df.Typical_Price_QOQ - forecast_df.yfh  \n",
    "forecast_df"
   ]
  },
  {
   "cell_type": "code",
   "execution_count": 70,
   "metadata": {},
   "outputs": [
    {
     "data": {
      "text/plain": [
       "<matplotlib.axes._subplots.AxesSubplot at 0x1a2401e510>"
      ]
     },
     "execution_count": 70,
     "metadata": {},
     "output_type": "execute_result"
    },
    {
     "data": {
      "image/png": "[encoded data removed]",
      "text/plain": [
       "<Figure size 1008x288 with 1 Axes>"
      ]
     },
     "metadata": {
      "needs_background": "light"
     },
     "output_type": "display_data"
    }
   ],
   "source": [
    "quaterly_agg.join(fc)[['Typical_Price_QOQ','yfh']].loc['2016-1-31':].plot(style=['-','-+'], figsize=(14, 4))"
   ]
  },
  {
   "cell_type": "code",
   "execution_count": 71,
   "metadata": {},
   "outputs": [
    {
     "data": {
      "text/plain": [
       "21.07868814362329"
      ]
     },
     "execution_count": 71,
     "metadata": {},
     "output_type": "execute_result"
    }
   ],
   "source": [
    "rmse = ((forecast_df.Typical_Price_QOQ - forecast_df.yfh) ** 2).mean() ** .5\n",
    "rmse"
   ]
  },
  {
   "cell_type": "code",
   "execution_count": 72,
   "metadata": {},
   "outputs": [
    {
     "data": {
      "text/html": [
       "<div>\n",
       "<style scoped>\n",
       "    .dataframe tbody tr th:only-of-type {\n",
       "        vertical-align: middle;\n",
       "    }\n",
       "\n",
       "    .dataframe tbody tr th {\n",
       "        vertical-align: top;\n",
       "    }\n",
       "\n",
       "    .dataframe thead th {\n",
       "        text-align: right;\n",
       "    }\n",
       "</style>\n",
       "<table border=\"1\" class=\"dataframe\">\n",
       "  <thead>\n",
       "    <tr style=\"text-align: right;\">\n",
       "      <th></th>\n",
       "      <th>yfh</th>\n",
       "      <th>Typical_Price_QOQ</th>\n",
       "      <th>gap</th>\n",
       "    </tr>\n",
       "    <tr>\n",
       "      <th>Date</th>\n",
       "      <th></th>\n",
       "      <th></th>\n",
       "      <th></th>\n",
       "    </tr>\n",
       "  </thead>\n",
       "  <tbody>\n",
       "    <tr>\n",
       "      <td>2018-06-30</td>\n",
       "      <td>-26.939694</td>\n",
       "      <td>10.525153</td>\n",
       "      <td>37.464847</td>\n",
       "    </tr>\n",
       "    <tr>\n",
       "      <td>2018-09-30</td>\n",
       "      <td>13.051486</td>\n",
       "      <td>16.912580</td>\n",
       "      <td>3.861094</td>\n",
       "    </tr>\n",
       "    <tr>\n",
       "      <td>2018-12-31</td>\n",
       "      <td>-7.366618</td>\n",
       "      <td>-12.126345</td>\n",
       "      <td>-4.759727</td>\n",
       "    </tr>\n",
       "    <tr>\n",
       "      <td>2019-03-31</td>\n",
       "      <td>31.633811</td>\n",
       "      <td>-0.127441</td>\n",
       "      <td>-31.761252</td>\n",
       "    </tr>\n",
       "    <tr>\n",
       "      <td>2019-06-30</td>\n",
       "      <td>30.685071</td>\n",
       "      <td>11.327940</td>\n",
       "      <td>-19.357131</td>\n",
       "    </tr>\n",
       "    <tr>\n",
       "      <td>2019-09-30</td>\n",
       "      <td>0.814227</td>\n",
       "      <td>-0.444070</td>\n",
       "      <td>-1.258297</td>\n",
       "    </tr>\n",
       "    <tr>\n",
       "      <td>2019-12-31</td>\n",
       "      <td>12.192686</td>\n",
       "      <td>-4.657860</td>\n",
       "      <td>-16.850546</td>\n",
       "    </tr>\n",
       "  </tbody>\n",
       "</table>\n",
       "</div>"
      ],
      "text/plain": [
       "                  yfh  Typical_Price_QOQ        gap\n",
       "Date                                               \n",
       "2018-06-30 -26.939694          10.525153  37.464847\n",
       "2018-09-30  13.051486          16.912580   3.861094\n",
       "2018-12-31  -7.366618         -12.126345  -4.759727\n",
       "2019-03-31  31.633811          -0.127441 -31.761252\n",
       "2019-06-30  30.685071          11.327940 -19.357131\n",
       "2019-09-30   0.814227          -0.444070  -1.258297\n",
       "2019-12-31  12.192686          -4.657860 -16.850546"
      ]
     },
     "execution_count": 72,
     "metadata": {},
     "output_type": "execute_result"
    }
   ],
   "source": [
    "forecast_df"
   ]
  },
  {
   "cell_type": "code",
   "execution_count": 73,
   "metadata": {},
   "outputs": [
    {
     "data": {
      "text/plain": [
       "21"
      ]
     },
     "execution_count": 73,
     "metadata": {},
     "output_type": "execute_result"
    }
   ],
   "source": [
    "forecast_df.size"
   ]
  },
  {
   "cell_type": "code",
   "execution_count": 74,
   "metadata": {},
   "outputs": [],
   "source": [
    "y_pred = [] * 10\n",
    "\n",
    "for i in range(len(forecast_df)+1):\n",
    "    if i == 0:\n",
    "        y_pred.append(1587.068490)\n",
    "    else:\n",
    "        y_pred.append(math.exp(forecast_df['yfh'][i-1]/100) * y_pred[i-1])"
   ]
  },
  {
   "cell_type": "code",
   "execution_count": 75,
   "metadata": {},
   "outputs": [
    {
     "data": {
      "text/plain": [
       "[1587.06849,\n",
       " 1212.2663909758537,\n",
       " 1381.2743487317912,\n",
       " 1283.1786713791528,\n",
       " 1760.6418804326722,\n",
       " 2392.955362718726,\n",
       " 2412.5189879783757]"
      ]
     },
     "execution_count": 75,
     "metadata": {},
     "output_type": "execute_result"
    }
   ],
   "source": [
    "y_pred[0:-1]"
   ]
  },
  {
   "cell_type": "code",
   "execution_count": 76,
   "metadata": {},
   "outputs": [
    {
     "data": {
      "text/plain": [
       "Date\n",
       "2018-09-30    1879.516191\n",
       "2018-12-31    1664.876507\n",
       "2019-03-31    1662.756126\n",
       "2019-06-30    1862.195076\n",
       "2019-09-30    1853.943960\n",
       "2019-12-31    1769.570102\n",
       "Freq: Q-DEC, Name: Typical_Price, dtype: float64"
      ]
     },
     "execution_count": 76,
     "metadata": {},
     "output_type": "execute_result"
    }
   ],
   "source": [
    "quaterly_agg.Typical_Price['2018-09-30':]"
   ]
  },
  {
   "cell_type": "code",
   "execution_count": 77,
   "metadata": {},
   "outputs": [],
   "source": [
    "Trading_df = pd.DataFrame({'Actual_Typical_Price':quaterly_agg.Typical_Price['2018-06-30':],\n",
    "                           'Predicted_Typical_Price' : y_pred[0:-1]\n",
    "                          })"
   ]
  },
  {
   "cell_type": "code",
   "execution_count": 78,
   "metadata": {},
   "outputs": [
    {
     "data": {
      "text/html": [
       "<div>\n",
       "<style scoped>\n",
       "    .dataframe tbody tr th:only-of-type {\n",
       "        vertical-align: middle;\n",
       "    }\n",
       "\n",
       "    .dataframe tbody tr th {\n",
       "        vertical-align: top;\n",
       "    }\n",
       "\n",
       "    .dataframe thead th {\n",
       "        text-align: right;\n",
       "    }\n",
       "</style>\n",
       "<table border=\"1\" class=\"dataframe\">\n",
       "  <thead>\n",
       "    <tr style=\"text-align: right;\">\n",
       "      <th></th>\n",
       "      <th>Actual_Typical_Price</th>\n",
       "      <th>Predicted_Typical_Price</th>\n",
       "    </tr>\n",
       "    <tr>\n",
       "      <th>Date</th>\n",
       "      <th></th>\n",
       "      <th></th>\n",
       "    </tr>\n",
       "  </thead>\n",
       "  <tbody>\n",
       "    <tr>\n",
       "      <td>2018-06-30</td>\n",
       "      <td>1587.068490</td>\n",
       "      <td>1587.068490</td>\n",
       "    </tr>\n",
       "    <tr>\n",
       "      <td>2018-09-30</td>\n",
       "      <td>1879.516191</td>\n",
       "      <td>1212.266391</td>\n",
       "    </tr>\n",
       "    <tr>\n",
       "      <td>2018-12-31</td>\n",
       "      <td>1664.876507</td>\n",
       "      <td>1381.274349</td>\n",
       "    </tr>\n",
       "    <tr>\n",
       "      <td>2019-03-31</td>\n",
       "      <td>1662.756126</td>\n",
       "      <td>1283.178671</td>\n",
       "    </tr>\n",
       "    <tr>\n",
       "      <td>2019-06-30</td>\n",
       "      <td>1862.195076</td>\n",
       "      <td>1760.641880</td>\n",
       "    </tr>\n",
       "    <tr>\n",
       "      <td>2019-09-30</td>\n",
       "      <td>1853.943960</td>\n",
       "      <td>2392.955363</td>\n",
       "    </tr>\n",
       "    <tr>\n",
       "      <td>2019-12-31</td>\n",
       "      <td>1769.570102</td>\n",
       "      <td>2412.518988</td>\n",
       "    </tr>\n",
       "  </tbody>\n",
       "</table>\n",
       "</div>"
      ],
      "text/plain": [
       "            Actual_Typical_Price  Predicted_Typical_Price\n",
       "Date                                                     \n",
       "2018-06-30           1587.068490              1587.068490\n",
       "2018-09-30           1879.516191              1212.266391\n",
       "2018-12-31           1664.876507              1381.274349\n",
       "2019-03-31           1662.756126              1283.178671\n",
       "2019-06-30           1862.195076              1760.641880\n",
       "2019-09-30           1853.943960              2392.955363\n",
       "2019-12-31           1769.570102              2412.518988"
      ]
     },
     "execution_count": 78,
     "metadata": {},
     "output_type": "execute_result"
    }
   ],
   "source": [
    "Trading_df"
   ]
  },
  {
   "cell_type": "markdown",
   "metadata": {},
   "source": [
    "# Monthly Trading Strategy for MIDAS"
   ]
  },
  {
   "cell_type": "code",
   "execution_count": 79,
   "metadata": {},
   "outputs": [
    {
     "name": "stdout",
     "output_type": "stream",
     "text": [
      "Stock: 1587.0684903462736 Action: Price-Prediction-Already-Lower Portfolio: 0 Stocks: 0 Balance_init: 0 total($) 10000\n",
      "Stock: 1879.5161914320856 Action: Price-Prediction-Already-Lower Portfolio: 0 Stocks: 0 Balance_init: 0 total($) 10000\n",
      "Stock: 1664.876507471478 Action: Price-Prediction-Already-Lower Portfolio: 0 Stocks: 0 Balance_init: 0 total($) 10000\n",
      "Stock: 1662.7561261953554 Action: Buy Portfolio: 9976.54 Stocks: 6 Balance_init: 23 total($) 9999.54\n",
      "Stock: 1862.1950761098706 Action: Bought--Holding Portfolio: 11173.17 Stocks: 6 Balance_init: 23 total($) 11196.17\n",
      "Stock: 1853.943959554037 Action: Bought--Holding Portfolio: 11123.66 Stocks: 6 Balance_init: 23 total($) 11146.66\n"
     ]
    }
   ],
   "source": [
    "amount = 10000\n",
    "signal = 0\n",
    "Amount = []\n",
    "balance = 0\n",
    "action = []\n",
    "portfolio = 0\n",
    "Portfolio = []\n",
    "stocks = 0\n",
    "Stocks = []\n",
    "\n",
    "for i in range(len(Trading_df)-1):\n",
    "    if Trading_df['Predicted_Typical_Price'][i+1] > Trading_df['Actual_Typical_Price'][i]:\n",
    "        if signal == 0:\n",
    "            action.append('Buy')\n",
    "            stocks = int(amount / Trading_df['Actual_Typical_Price'][i])\n",
    "            balance = int(amount % Trading_df['Actual_Typical_Price'][i])\n",
    "            portfolio = stocks * Trading_df['Actual_Typical_Price'][i]\n",
    "            signal = 1\n",
    "            amount = portfolio + balance\n",
    "            print('Stock:',Trading_df['Actual_Typical_Price'][i] ,'Action:',action[i],'Portfolio:',round(portfolio,2),'Stocks:', stocks,'Balance_init:',balance,'total($)',round(amount,2))\n",
    "            Portfolio.append(round(portfolio,5))\n",
    "            Amount.append(round(amount,0))\n",
    "            Stocks.append(stocks)\n",
    "        else:\n",
    "            action.append('Bought--Holding')\n",
    "            portfolio = stocks * Trading_df['Actual_Typical_Price'][i]\n",
    "            amount = portfolio + balance\n",
    "            print('Stock:',Trading_df['Actual_Typical_Price'][i],'Action:',action[i],'Portfolio:',round(portfolio,2),'Stocks:', stocks,'Balance_init:',balance,'total($)',round(amount,2))\n",
    "            Portfolio.append(round(portfolio,5))\n",
    "            Amount.append(round(amount,0))\n",
    "            Stocks.append(stocks)\n",
    "            \n",
    "    elif Trading_df['Predicted_Typical_Price'][i+1] < Trading_df['Actual_Typical_Price'][i]:\n",
    "        if signal == 1:\n",
    "            action.append('Sell')\n",
    "            portfolio = stocks * Trading_df['Actual_Typical_Price'][i]\n",
    "            \n",
    "            signal = 0\n",
    "            stocks = 0\n",
    "            amount = balance + portfolio\n",
    "            portfolio = 0\n",
    "            balance = 0\n",
    "            print('Stock:',Trading_df['Actual_Typical_Price'][i],'Action:',action[i],'Portfolio:',round(portfolio,2),'Stocks:', stocks,'Balance_init:',balance,'total($)',round(amount,2))\n",
    "            Portfolio.append(round(portfolio,5))\n",
    "            Amount.append(round(amount,0))\n",
    "            Stocks.append(stocks)\n",
    "        else:\n",
    "            action.append('Price-Prediction-Already-Lower')\n",
    "            print('Stock:',Trading_df['Actual_Typical_Price'][i],'Action:',action[i],'Portfolio:',round(portfolio,2),'Stocks:', stocks,'Balance_init:',balance,'total($)',round(amount,2))\n",
    "            Portfolio.append(round(portfolio,5))\n",
    "            Amount.append(round(amount,0))\n",
    "            Stocks.append(stocks)\n",
    " \n",
    "\n"
   ]
  },
  {
   "cell_type": "code",
   "execution_count": 80,
   "metadata": {},
   "outputs": [
    {
     "data": {
      "text/plain": [
       "[10000, 10000, 10000, 10000.0, 11196.0, 11147.0]"
      ]
     },
     "execution_count": 80,
     "metadata": {},
     "output_type": "execute_result"
    }
   ],
   "source": [
    "Amount"
   ]
  },
  {
   "cell_type": "code",
   "execution_count": 81,
   "metadata": {},
   "outputs": [
    {
     "data": {
      "text/plain": [
       "10390.5"
      ]
     },
     "execution_count": 81,
     "metadata": {},
     "output_type": "execute_result"
    }
   ],
   "source": [
    "np.mean(Amount)"
   ]
  },
  {
   "cell_type": "code",
   "execution_count": 82,
   "metadata": {},
   "outputs": [],
   "source": [
    "import statistics"
   ]
  },
  {
   "cell_type": "code",
   "execution_count": 83,
   "metadata": {},
   "outputs": [],
   "source": [
    "Returns = [10000.0+11196.0+11147.0]"
   ]
  },
  {
   "cell_type": "code",
   "execution_count": 84,
   "metadata": {},
   "outputs": [
    {
     "data": {
      "text/plain": [
       "32343.0"
      ]
     },
     "execution_count": 84,
     "metadata": {},
     "output_type": "execute_result"
    }
   ],
   "source": [
    "np.average(Returns)"
   ]
  },
  {
   "cell_type": "code",
   "execution_count": 85,
   "metadata": {},
   "outputs": [
    {
     "data": {
      "text/plain": [
       "605.1584090137061"
      ]
     },
     "execution_count": 85,
     "metadata": {},
     "output_type": "execute_result"
    }
   ],
   "source": [
    "import statistics\n",
    "statistics.stdev(Amount)"
   ]
  },
  {
   "cell_type": "code",
   "execution_count": null,
   "metadata": {},
   "outputs": [],
   "source": []
  }
 ],
 "metadata": {
  "kernelspec": {
   "display_name": "Python 3",
   "language": "python",
   "name": "python3"
  },
  "language_info": {
   "codemirror_mode": {
    "name": "ipython",
    "version": 3
   },
   "file_extension": ".py",
   "mimetype": "text/x-python",
   "name": "python",
   "nbconvert_exporter": "python",
   "pygments_lexer": "ipython3",
   "version": "3.7.4"
  }
 },
 "nbformat": 4,
 "nbformat_minor": 4
}
